{
 "cells": [
  {
   "cell_type": "code",
   "execution_count": 2,
   "metadata": {
    "deletable": false,
    "editable": false
   },
   "outputs": [],
   "source": [
    "# Initialize Otter\n",
    "import otter\n",
    "grader = otter.Notebook(\"hw06.ipynb\")"
   ]
  },
  {
   "cell_type": "markdown",
   "metadata": {},
   "source": [
    "# Homework 6: Probability, Simulation, Estimation, and Assessing Models\n",
    "\n",
    "Please complete this notebook by filling in the cells provided. Before you begin, execute the previous cell to load the provided tests."
   ]
  },
  {
   "attachments": {},
   "cell_type": "markdown",
   "metadata": {},
   "source": [
    "**Helpful Resource:**\n",
    "- [Python Reference](http://data8.org/su24/reference/): Cheat sheet of helpful array & table methods used in Data 8!\n",
    "- [Sampling Methods Guide](https://drive.google.com/file/d/1k8uNN0Bg7J0BTgK-0Z5glDNtd_5FTJQl/view?usp=sharing): Guide for the randomization methods.\n",
    "\n",
    "**Recommended Readings**: \n",
    "* [Randomness](https://www.inferentialthinking.com/chapters/09/Randomness.html)\n",
    "* [Sampling and Empirical Distributions](https://www.inferentialthinking.com/chapters/10/Sampling_and_Empirical_Distributions.html)\n",
    "* [Testing Hypotheses](https://www.inferentialthinking.com/chapters/11/Testing_Hypotheses.html)"
   ]
  },
  {
   "cell_type": "markdown",
   "metadata": {},
   "source": [
    "## 1. Roulette"
   ]
  },
  {
   "cell_type": "code",
   "execution_count": 1,
   "metadata": {},
   "outputs": [],
   "source": [
    "# Run this cell to set up the notebook, but please don't change it.\n",
    "\n",
    "# These lines import the Numpy and Datascience modules.\n",
    "import numpy as np\n",
    "from datascience import *\n",
    "\n",
    "# These lines do some fancy plotting magic.\n",
    "import matplotlib\n",
    "%matplotlib inline\n",
    "import matplotlib.pyplot as plt\n",
    "plt.style.use('fivethirtyeight')\n",
    "import warnings\n",
    "warnings.simplefilter('ignore', FutureWarning)"
   ]
  },
  {
   "cell_type": "markdown",
   "metadata": {},
   "source": [
    "A Nevada roulette wheel has 38 pockets and a small ball that rests on the wheel. When the wheel is spun, the ball comes to rest in one of the 38 pockets. That pocket is declared the winner. \n",
    "\n",
    "The pockets are labeled 0, 00, 1, 2, 3, 4, ... , 36. Pockets 0 and 00 are green, and the other pockets are alternately red and black. The table `wheel` is a representation of a Nevada roulette wheel. **Note that *both* columns consist of strings.** Below is an example of a roulette wheel!"
   ]
  },
  {
   "cell_type": "markdown",
   "metadata": {},
   "source": [
    "<img src=\"roulette_wheel.jpeg\" width=\"330px\">"
   ]
  },
  {
   "cell_type": "markdown",
   "metadata": {},
   "source": [
    "Run the cell below to load the `wheel` table."
   ]
  },
  {
   "cell_type": "code",
   "execution_count": 3,
   "metadata": {},
   "outputs": [
    {
     "data": {
      "text/html": [
       "<table border=\"1\" class=\"dataframe\">\n",
       "    <thead>\n",
       "        <tr>\n",
       "            <th>Pocket</th> <th>Color</th>\n",
       "        </tr>\n",
       "    </thead>\n",
       "    <tbody>\n",
       "        <tr>\n",
       "            <td>00    </td> <td>green</td>\n",
       "        </tr>\n",
       "        <tr>\n",
       "            <td>0     </td> <td>green</td>\n",
       "        </tr>\n",
       "        <tr>\n",
       "            <td>1     </td> <td>red  </td>\n",
       "        </tr>\n",
       "        <tr>\n",
       "            <td>2     </td> <td>black</td>\n",
       "        </tr>\n",
       "        <tr>\n",
       "            <td>3     </td> <td>red  </td>\n",
       "        </tr>\n",
       "        <tr>\n",
       "            <td>4     </td> <td>black</td>\n",
       "        </tr>\n",
       "        <tr>\n",
       "            <td>5     </td> <td>red  </td>\n",
       "        </tr>\n",
       "        <tr>\n",
       "            <td>6     </td> <td>black</td>\n",
       "        </tr>\n",
       "        <tr>\n",
       "            <td>7     </td> <td>red  </td>\n",
       "        </tr>\n",
       "        <tr>\n",
       "            <td>8     </td> <td>black</td>\n",
       "        </tr>\n",
       "    </tbody>\n",
       "</table>\n",
       "<p>... (28 rows omitted)</p>"
      ],
      "text/plain": [
       "Pocket | Color\n",
       "00     | green\n",
       "0      | green\n",
       "1      | red\n",
       "2      | black\n",
       "3      | red\n",
       "4      | black\n",
       "5      | red\n",
       "6      | black\n",
       "7      | red\n",
       "8      | black\n",
       "... (28 rows omitted)"
      ]
     },
     "execution_count": 3,
     "metadata": {},
     "output_type": "execute_result"
    }
   ],
   "source": [
    "wheel = Table.read_table('roulette_wheel.csv', dtype=str)\n",
    "wheel"
   ]
  },
  {
   "attachments": {},
   "cell_type": "markdown",
   "metadata": {},
   "source": [
    "### Betting on Red ###\n",
    "If you bet on *red*, you are betting that the winning pocket will be red. This bet *pays 1 to 1*. That means if you place a one-dollar bet on red, then:\n",
    "\n",
    "- If the winning pocket is red, you gain 1 dollar. That is, you get your original dollar back, plus one more dollar.\n",
    "- If the winning pocket is not red, you lose your dollar. In other words, you gain -1 dollars.\n",
    "\n",
    "Let's see if you can make money by betting on red at roulette."
   ]
  },
  {
   "cell_type": "markdown",
   "metadata": {},
   "source": [
    "**Question 1.** Define a function `dollar_bet_on_red` that takes the name of a color and returns your gain in dollars if that color had won and you had placed a one-dollar bet on red. Remember that the gain can be negative. Make sure your function returns an integer.\n",
    "\n",
    "*Note:* You can assume that the only colors that will be passed as arguments are red, black, and green. Your function doesn't have to check that.\n"
   ]
  },
  {
   "cell_type": "code",
   "execution_count": 54,
   "metadata": {
    "tags": []
   },
   "outputs": [],
   "source": [
    "def dollar_bet_on_red(color):\n",
    "    roll=np.random.choice(wheel.column(\"Color\"))\n",
    "    outcome=0\n",
    "    if roll == \"red\" == color:\n",
    "        outcome=outcome+1\n",
    "    if roll == \"black\" == color:\n",
    "        outcome=outcome-1\n",
    "    if roll == \"green\" == color:\n",
    "        outcome=outcome-1\n",
    "    return outcome"
   ]
  },
  {
   "cell_type": "code",
   "execution_count": 55,
   "metadata": {
    "deletable": false,
    "editable": false
   },
   "outputs": [
    {
     "data": {
      "text/html": [
       "<p><strong><pre style='display: inline;'>q1_1</pre></strong> passed! 🙌</p>"
      ],
      "text/plain": [
       "q1_1 results: All test cases passed!"
      ]
     },
     "execution_count": 55,
     "metadata": {},
     "output_type": "execute_result"
    }
   ],
   "source": [
    "grader.check(\"q1_1\")"
   ]
  },
  {
   "cell_type": "markdown",
   "metadata": {},
   "source": [
    "Run the cell below to make sure your function is working."
   ]
  },
  {
   "cell_type": "code",
   "execution_count": 57,
   "metadata": {},
   "outputs": [
    {
     "name": "stdout",
     "output_type": "stream",
     "text": [
      "0\n",
      "0\n",
      "1\n"
     ]
    }
   ],
   "source": [
    "print(dollar_bet_on_red('green'))\n",
    "print(dollar_bet_on_red('black'))\n",
    "print(dollar_bet_on_red('red'))"
   ]
  },
  {
   "cell_type": "markdown",
   "metadata": {},
   "source": [
    "**Question 2.** Add a column labeled `Winnings: Red` to the table `wheel`. For each pocket, the column should contain your gain in dollars if that pocket won and you had bet one dollar on red. Your code should use the function `dollar_bet_on_red`.\n",
    "\n",
    "> *Hint:* You should not need a `for` loop for this question, instead try using a table method!"
   ]
  },
  {
   "cell_type": "code",
   "execution_count": null,
   "metadata": {
    "scrolled": true,
    "tags": []
   },
   "outputs": [],
   "source": [
    "red_winnings = ...\n",
    "wheel = ...\n",
    "wheel"
   ]
  },
  {
   "cell_type": "code",
   "execution_count": null,
   "metadata": {
    "deletable": false,
    "editable": false
   },
   "outputs": [],
   "source": [
    "grader.check(\"q1_2\")"
   ]
  },
  {
   "cell_type": "markdown",
   "metadata": {},
   "source": [
    "### Simulating 10 Bets on Red\n",
    "Roulette wheels are set up so that each time they are spun, the winning pocket is equally likely to be any of the 38 pockets regardless of the results of all other spins. Let's see what would happen if we decided to bet one dollar on red each round.\n",
    "\n",
    "**Question 3.** Create a table `ten_bets` by sampling the table `wheel` to simulate 10 spins of the roulette wheel. Your table should have the same three column labels as in `wheel`. Once you've created that table, set `sum_bets` to your net gain in all 10 bets, assuming that you bet one dollar on red each time.\n",
    "\n",
    "*Hint:* It may be helpful to print out `ten_bets` after you create it! "
   ]
  },
  {
   "cell_type": "code",
   "execution_count": null,
   "metadata": {
    "tags": []
   },
   "outputs": [],
   "source": [
    "ten_bets = ...\n",
    "sum_bets = ...(ten_bets.column('Winnings: Red'))\n",
    "sum_bets"
   ]
  },
  {
   "cell_type": "code",
   "execution_count": null,
   "metadata": {
    "deletable": false,
    "editable": false
   },
   "outputs": [],
   "source": [
    "grader.check(\"q1_3\")"
   ]
  },
  {
   "cell_type": "markdown",
   "metadata": {},
   "source": [
    "Run the cells above a few times to see how much money you would make if you made 10 one-dollar bets on red. Making a negative amount of money doesn't feel good, but it is a reality in gambling. Casinos are a business, and they make money when gamblers lose."
   ]
  },
  {
   "cell_type": "markdown",
   "metadata": {},
   "source": [
    "**Question 4.** Let's see what would happen if you made more bets. Define a function `net_gain_red` that takes the number of bets and returns the net gain in that number of one-dollar bets on red.\n",
    "\n",
    "*Hint:* You should use your `wheel` table within your function and run the simulation like the in previous question.\n"
   ]
  },
  {
   "cell_type": "code",
   "execution_count": null,
   "metadata": {
    "tags": []
   },
   "outputs": [],
   "source": [
    "def net_gain_red(...):\n",
    "    ..."
   ]
  },
  {
   "cell_type": "code",
   "execution_count": null,
   "metadata": {
    "deletable": false,
    "editable": false
   },
   "outputs": [],
   "source": [
    "grader.check(\"q1_4\")"
   ]
  },
  {
   "cell_type": "markdown",
   "metadata": {},
   "source": [
    "Run the cell below a few times to make sure that the results are similar to those you observed in the previous exercise."
   ]
  },
  {
   "cell_type": "code",
   "execution_count": null,
   "metadata": {},
   "outputs": [],
   "source": [
    "net_gain_red(10)"
   ]
  },
  {
   "cell_type": "markdown",
   "metadata": {},
   "source": [
    "**Question 5.** Complete the cell below to simulate the net gain in 200 one-dollar bets on red, repeating the process 10,000 times. After the cell is run, `simulated_gains_red` should be an array with 10,000 entries, each of which is the net gain in 200 one-dollar bets on red.\n",
    "\n",
    "*Hint:* Think about which computational tool might be helpful for simulating a process multiple times. Lab 5 might be a good resource to look at!\n",
    "\n",
    "*Note:* This cell might take a few seconds to run.\n"
   ]
  },
  {
   "cell_type": "code",
   "execution_count": null,
   "metadata": {
    "tags": []
   },
   "outputs": [],
   "source": [
    "num_bets = ...\n",
    "repetitions = ...\n",
    "\n",
    "simulated_gains_red = ...\n",
    "...\n",
    "\n",
    "len(simulated_gains_red) # Do not change this line! Check that simulated_gains_red is length 10000."
   ]
  },
  {
   "cell_type": "code",
   "execution_count": null,
   "metadata": {
    "deletable": false,
    "editable": false
   },
   "outputs": [],
   "source": [
    "grader.check(\"q1_5\")"
   ]
  },
  {
   "cell_type": "markdown",
   "metadata": {},
   "source": [
    "Run the cell below to visualize the results of your simulation."
   ]
  },
  {
   "cell_type": "code",
   "execution_count": null,
   "metadata": {},
   "outputs": [],
   "source": [
    "gains = Table().with_columns('Net Gain on Red', simulated_gains_red)\n",
    "gains.hist(bins = np.arange(-80, 41, 4))"
   ]
  },
  {
   "cell_type": "markdown",
   "metadata": {},
   "source": [
    "**Question 6:** Using the histogram above, decide whether the following statement is true or false:\n",
    "\n",
    ">If you make 200 one-dollar bets on red, your chance of losing money is more than 50%.\n",
    "\n",
    "Assign `loss_more_than_50` to either `True` or `False` depending on your answer to the question. **(2 points)**\n"
   ]
  },
  {
   "cell_type": "code",
   "execution_count": null,
   "metadata": {
    "tags": []
   },
   "outputs": [],
   "source": [
    "loss_more_than_50 = ..."
   ]
  },
  {
   "cell_type": "code",
   "execution_count": null,
   "metadata": {
    "deletable": false,
    "editable": false
   },
   "outputs": [],
   "source": [
    "grader.check(\"q1_6\")"
   ]
  },
  {
   "cell_type": "markdown",
   "metadata": {},
   "source": [
    "### Betting on a Split ###\n",
    "If betting on red doesn't seem like a good idea, maybe a gambler might want to try a different bet. A bet on a *split* is a bet on two consecutive numbers such as 5 and 6. This bets pays 17 to 1. That means if you place a one-dollar bet on the split 5 and 6, then:\n",
    "\n",
    "- If the winning pocket is either 5 or 6, your gain is 17 dollars.\n",
    "- If any other pocket wins, you lose your dollar, so your gain is -1 dollars.\n",
    "\n",
    "**Question 7.** Define a function `dollar_bet_on_split` that takes a pocket number and returns your gain in dollars if that pocket won and you had bet one dollar on the 5-6 split.\n",
    "\n",
    "*Hint:* Remember that the pockets are represented as strings.\n"
   ]
  },
  {
   "cell_type": "code",
   "execution_count": null,
   "metadata": {
    "tags": []
   },
   "outputs": [],
   "source": [
    "def dollar_bet_on_split(...):\n",
    "    ..."
   ]
  },
  {
   "cell_type": "code",
   "execution_count": null,
   "metadata": {
    "deletable": false,
    "editable": false
   },
   "outputs": [],
   "source": [
    "grader.check(\"q1_7\")"
   ]
  },
  {
   "cell_type": "markdown",
   "metadata": {},
   "source": [
    "Run the cell below to check that your function is doing what it should."
   ]
  },
  {
   "cell_type": "code",
   "execution_count": null,
   "metadata": {
    "scrolled": true
   },
   "outputs": [],
   "source": [
    "print(dollar_bet_on_split('5'))\n",
    "print(dollar_bet_on_split('6'))\n",
    "print(dollar_bet_on_split('00'))\n",
    "print(dollar_bet_on_split('23'))"
   ]
  },
  {
   "cell_type": "markdown",
   "metadata": {},
   "source": [
    "**Question 8.** Add a column `Winnings: Split` to the `wheel` table. For each pocket, the column should contain your gain in dollars if that pocket won and you had bet one dollar on the 5-6 split.\n"
   ]
  },
  {
   "cell_type": "code",
   "execution_count": null,
   "metadata": {
    "scrolled": true,
    "tags": []
   },
   "outputs": [],
   "source": [
    "split_winnings = ...\n",
    "wheel = ...\n",
    "wheel.show(5) # Do not change this line."
   ]
  },
  {
   "cell_type": "code",
   "execution_count": null,
   "metadata": {
    "deletable": false,
    "editable": false
   },
   "outputs": [],
   "source": [
    "grader.check(\"q1_8\")"
   ]
  },
  {
   "cell_type": "markdown",
   "metadata": {},
   "source": [
    "**Question 9.** Simulate the net gain in 200 one-dollar bets on the 5-6 split, repeating the process 10,000 times and saving your gains in the array `simulated_gains_split`.\n",
    "\n",
    "*Hint:* Your code in Questions 4 and 5 may be helpful here!\n"
   ]
  },
  {
   "cell_type": "code",
   "execution_count": null,
   "metadata": {
    "scrolled": false,
    "tags": []
   },
   "outputs": [],
   "source": [
    "simulated_gains_split = ...\n",
    "\n",
    "...\n",
    "\n",
    "# Do not change the two lines below\n",
    "gains = gains.with_columns('Net Gain on Split', simulated_gains_split)\n",
    "gains.hist(bins = np.arange(-200, 150, 20))"
   ]
  },
  {
   "cell_type": "code",
   "execution_count": null,
   "metadata": {
    "deletable": false,
    "editable": false
   },
   "outputs": [],
   "source": [
    "grader.check(\"q1_9\")"
   ]
  },
  {
   "cell_type": "markdown",
   "metadata": {},
   "source": [
    "**Question 10.** Look carefully at the visualization above, and assign `histogram_statements` to an array of the numbers of each statement below that can be correctly inferred from the overlaid histogram.\n",
    "\n",
    "1. If you bet one dollar 200 times on a split, your chance of losing money is more than 50%.\n",
    "2. If you bet one dollar 200 times in roulette, your chance of making more than 50 dollars is greater if you bet on a split each time than if you bet on red each time.\n",
    "3. If you bet one dollar 200 times in roulette, your chance of losing more than 50 dollars is greater if you bet on a split each time than if you bet on red each time.\n",
    "\n",
    "*Hint:* We've already seen one of these statements in a prior question.\n"
   ]
  },
  {
   "cell_type": "code",
   "execution_count": null,
   "metadata": {
    "tags": []
   },
   "outputs": [],
   "source": [
    "histogram_statements = ..."
   ]
  },
  {
   "cell_type": "code",
   "execution_count": null,
   "metadata": {
    "deletable": false,
    "editable": false
   },
   "outputs": [],
   "source": [
    "grader.check(\"q1_10\")"
   ]
  },
  {
   "cell_type": "markdown",
   "metadata": {},
   "source": [
    "If this exercise has put you off playing roulette, it has done its job. If you are still curious about other bets, [here](https://en.wikipedia.org/wiki/Roulette#Bet_odds_table) they all are, and [here](https://en.wikipedia.org/wiki/Roulette#House_edge) is the bad news. The house – that is, the casino – always has an edge over the gambler."
   ]
  },
  {
   "cell_type": "markdown",
   "metadata": {
    "tags": []
   },
   "source": [
    "<!-- END QUESTION -->\n",
    "\n",
    "## 2. Assessing Jade's Models\n",
    "\n",
    "Before you begin, [Section 10.4](https://inferentialthinking.com/chapters/10/4/Random_Sampling_in_Python.html) of the textbook is a useful reference for this part."
   ]
  },
  {
   "cell_type": "markdown",
   "metadata": {},
   "source": [
    "### Games with Jade\n",
    "Our friend Jade comes over and asks us to play a game with her. The game works like this: \n",
    "\n",
    "> We will draw randomly with replacement from a simplified 13 card deck with 4 face cards (A, J, Q, K), and 9 numbered cards (2, 3, 4, 5, 6, 7, 8, 9, 10). If we draw cards with replacement 13 times, and if the number of face cards is greater than or equal to 4, we lose.\n",
    "> \n",
    "> Otherwise, Jade loses.\n",
    "\n",
    "We play the game once and we lose, observing 8 total face cards. We are angry and accuse Jade of cheating! Jade is adamant, however, that the deck is fair.\n",
    "\n",
    "Jade's model claims that there is an equal chance of getting any of the cards (A, 2, 3, 4, 5, 6, 7, 8, 9, 10, J, Q, K), but we do not believe her. We believe that the deck is clearly rigged, with face cards (A, J, Q, K) being more likely than the numbered cards (2, 3, 4, 5, 6, 7, 8, 9, 10)."
   ]
  },
  {
   "cell_type": "markdown",
   "metadata": {},
   "source": [
    "**Question 1.** Assign `deck_model_probabilities` to a two-item array containing the chance of drawing a face card as the first element, and the chance of drawing a numbered card as the second element under Jade's model. Since we're working with probabilities, make sure your values are between 0 and 1.\n"
   ]
  },
  {
   "cell_type": "code",
   "execution_count": null,
   "metadata": {
    "tags": []
   },
   "outputs": [],
   "source": [
    "deck_model_probabilities = ...\n",
    "deck_model_probabilities"
   ]
  },
  {
   "cell_type": "code",
   "execution_count": null,
   "metadata": {
    "deletable": false,
    "editable": false
   },
   "outputs": [],
   "source": [
    "grader.check(\"q4_1\")"
   ]
  },
  {
   "cell_type": "markdown",
   "metadata": {},
   "source": [
    "**Question 2.** We believe Jade's model is incorrect. In particular, we believe there to be a *larger* chance of getting a face card. Which of the following statistics can we use during our simulation to test between the model and our alternative? Assign `statistic_choice` to the correct answer.\n",
    "\n",
    "1. The distance (absolute value) between the actual number of face cards in 13 draws and 4, the expected number of face cards in 13 draws\n",
    "2. The expected number of face cards in 13 draws\n",
    "3. The number of face cards we get in 13 draws\n"
   ]
  },
  {
   "cell_type": "code",
   "execution_count": null,
   "metadata": {
    "tags": []
   },
   "outputs": [],
   "source": [
    "statistic_choice = ...\n",
    "statistic_choice"
   ]
  },
  {
   "cell_type": "code",
   "execution_count": null,
   "metadata": {
    "deletable": false,
    "editable": false
   },
   "outputs": [],
   "source": [
    "grader.check(\"q4_2\")"
   ]
  },
  {
   "cell_type": "markdown",
   "metadata": {},
   "source": [
    "**Question 3.** Define the function `deck_simulation_and_statistic`, which, given a sample size and an array of model proportions (like the one you created in Question 1), returns the **number of face cards** in one simulation of drawing cards under the model specified in `model_proportions`.\n",
    "\n",
    "*Hint:* Think about how you can use the function `sample_proportions`. \n"
   ]
  },
  {
   "cell_type": "code",
   "execution_count": null,
   "metadata": {
    "tags": []
   },
   "outputs": [],
   "source": [
    "def deck_simulation_and_statistic(sample_size, model_proportions):\n",
    "    ...\n",
    "\n",
    "deck_simulation_and_statistic(13, deck_model_probabilities)"
   ]
  },
  {
   "cell_type": "code",
   "execution_count": null,
   "metadata": {
    "deletable": false,
    "editable": false
   },
   "outputs": [],
   "source": [
    "grader.check(\"q4_3\")"
   ]
  },
  {
   "cell_type": "markdown",
   "metadata": {},
   "source": [
    "**Question 4.** Use your function from above to simulate the drawing of 13 cards 5000 times under the proportions that you specified in Question 1. Keep track of all of your statistics in `deck_statistics`.\n"
   ]
  },
  {
   "cell_type": "code",
   "execution_count": null,
   "metadata": {
    "tags": []
   },
   "outputs": [],
   "source": [
    "repetitions = 5000 \n",
    "...\n",
    "\n",
    "deck_statistics"
   ]
  },
  {
   "cell_type": "code",
   "execution_count": null,
   "metadata": {
    "deletable": false,
    "editable": false
   },
   "outputs": [],
   "source": [
    "grader.check(\"q4_4\")"
   ]
  },
  {
   "cell_type": "markdown",
   "metadata": {},
   "source": [
    "Let’s take a look at the distribution of simulated statistics."
   ]
  },
  {
   "cell_type": "code",
   "execution_count": null,
   "metadata": {},
   "outputs": [],
   "source": [
    "# Draw a distribution of statistics \n",
    "Table().with_column('Deck Statistics', deck_statistics).hist()"
   ]
  },
  {
   "cell_type": "markdown",
   "metadata": {},
   "source": [
    "<!-- BEGIN QUESTION -->\n",
    "\n",
    "**Question 5.** Given your observed value, do you believe that Jade's model is reasonable, or is our alternative (that our deck is rigged) more likely? Explain your answer using the histogram of statistics simulated using Jade's model (produced above).\n"
   ]
  },
  {
   "cell_type": "markdown",
   "metadata": {},
   "source": [
    "_Type your answer here, replacing this text._"
   ]
  }
 ],
 "metadata": {
  "kernelspec": {
   "display_name": "Python 3",
   "language": "python",
   "name": "python3"
  },
  "language_info": {
   "codemirror_mode": {
    "name": "ipython",
    "version": 3
   },
   "file_extension": ".py",
   "mimetype": "text/x-python",
   "name": "python",
   "nbconvert_exporter": "python",
   "pygments_lexer": "ipython3",
   "version": "3.12.1"
  },
  "otter": {
   "OK_FORMAT": true,
   "tests": {
    "q1_1": {
     "name": "q1_1",
     "points": [
      2
     ],
     "suites": [
      {
       "cases": [
        {
         "code": ">>> dollar_bet_on_red('red') == 1\nTrue",
         "hidden": false,
         "locked": false
        }
       ],
       "scored": true,
       "setup": "",
       "teardown": "",
       "type": "doctest"
      }
     ]
    },
    "q1_10": {
     "name": "q1_10",
     "points": [
      0,
      0,
      0
     ],
     "suites": [
      {
       "cases": [
        {
         "code": ">>> # Make sure histogram_statements is an array.\n>>> import numpy as np\n>>> type(histogram_statements) == np.ndarray\nTrue",
         "hidden": false,
         "locked": false
        },
        {
         "code": ">>> # Make sure you have set histogram_statements to an array with at least 1 number\n>>> 1 <= histogram_statements.item(0) <= 3\nTrue",
         "hidden": false,
         "locked": false
        },
        {
         "code": ">>> # make sure all elements are between 1 and 3\n>>> all(histogram_statements <= 3) and all(histogram_statements >= 1)\nTrue",
         "hidden": false,
         "locked": false
        }
       ],
       "scored": true,
       "setup": "",
       "teardown": "",
       "type": "doctest"
      }
     ]
    },
    "q1_2": {
     "name": "q1_2",
     "points": [
      0
     ],
     "suites": [
      {
       "cases": [
        {
         "code": ">>> # Make sure your column names are correct\n>>> wheel.labels[2] == \"Winnings: Red\"\nTrue",
         "hidden": false,
         "locked": false
        }
       ],
       "scored": true,
       "setup": "",
       "teardown": "",
       "type": "doctest"
      }
     ]
    },
    "q1_3": {
     "name": "q1_3",
     "points": [
      0,
      0
     ],
     "suites": [
      {
       "cases": [
        {
         "code": ">>> # If this test isn't passing, try running the cells from the top.\n>>> set([\"Pocket\", \"Color\", \"Winnings: Red\"]) == set(ten_bets.labels)\nTrue",
         "hidden": false,
         "locked": false
        },
        {
         "code": ">>> # Checks that ten_bets doesn't have the same number of rows as wheel\n>>> ten_bets.num_rows != wheel.num_rows\nTrue",
         "hidden": false,
         "locked": false
        }
       ],
       "scored": true,
       "setup": "",
       "teardown": "",
       "type": "doctest"
      }
     ]
    },
    "q1_4": {
     "name": "q1_4",
     "points": [
      0
     ],
     "suites": [
      {
       "cases": [
        {
         "code": ">>> net_gain_red(10000) != net_gain_red(10000)\nTrue",
         "hidden": false,
         "locked": false
        }
       ],
       "scored": true,
       "setup": "",
       "teardown": "",
       "type": "doctest"
      }
     ]
    },
    "q1_5": {
     "name": "q1_5",
     "points": [
      0
     ],
     "suites": [
      {
       "cases": [
        {
         "code": ">>> # Make sure simulated_gains_red is an array.\n>>> import numpy as np\n>>> type(simulated_gains_red) == np.ndarray\nTrue",
         "hidden": false,
         "locked": false
        }
       ],
       "scored": true,
       "setup": "",
       "teardown": "",
       "type": "doctest"
      }
     ]
    },
    "q1_6": {
     "name": "q1_6",
     "points": [
      0
     ],
     "suites": [
      {
       "cases": [
        {
         "code": ">>> type(loss_more_than_50) == bool\nTrue",
         "hidden": false,
         "locked": false
        }
       ],
       "scored": true,
       "setup": "",
       "teardown": "",
       "type": "doctest"
      }
     ]
    },
    "q1_7": {
     "name": "q1_7",
     "points": [
      2
     ],
     "suites": [
      {
       "cases": [
        {
         "code": ">>> dollar_bet_on_split('5') == 17\nTrue",
         "hidden": false,
         "locked": false
        }
       ],
       "scored": true,
       "setup": "",
       "teardown": "",
       "type": "doctest"
      }
     ]
    },
    "q1_8": {
     "name": "q1_8",
     "points": [
      0
     ],
     "suites": [
      {
       "cases": [
        {
         "code": ">>> # Make sure your column names are correct\n>>> wheel.labels[3] == \"Winnings: Split\"\nTrue",
         "hidden": false,
         "locked": false
        }
       ],
       "scored": true,
       "setup": "",
       "teardown": "",
       "type": "doctest"
      }
     ]
    },
    "q1_9": {
     "name": "q1_9",
     "points": [
      0
     ],
     "suites": [
      {
       "cases": [
        {
         "code": ">>> # Make sure simulated_gains_split is an array.\n>>> import numpy as np\n>>> type(simulated_gains_split) == np.ndarray\nTrue",
         "hidden": false,
         "locked": false
        }
       ],
       "scored": true,
       "setup": "",
       "teardown": "",
       "type": "doctest"
      }
     ]
    },
    "q2_1": {
     "name": "q2_1",
     "points": [
      0
     ],
     "suites": [
      {
       "cases": [
        {
         "code": ">>> # Your probability output should be a value between 0 and 1.\n>>> 0 < first_three_black < 1\nTrue",
         "hidden": false,
         "locked": false
        }
       ],
       "scored": true,
       "setup": "",
       "teardown": "",
       "type": "doctest"
      }
     ]
    },
    "q2_2": {
     "name": "q2_2",
     "points": [
      0
     ],
     "suites": [
      {
       "cases": [
        {
         "code": ">>> # Your probability output should be a value between 0 and 1.\n>>> 0 < no_green < 1\nTrue",
         "hidden": false,
         "locked": false
        }
       ],
       "scored": true,
       "setup": "",
       "teardown": "",
       "type": "doctest"
      }
     ]
    },
    "q2_3": {
     "name": "q2_3",
     "points": [
      0
     ],
     "suites": [
      {
       "cases": [
        {
         "code": ">>> # Your probability output should be a value between 0 and 1.\n>>> 0 < at_least_one_green < 1\nTrue",
         "hidden": false,
         "locked": false
        }
       ],
       "scored": true,
       "setup": "",
       "teardown": "",
       "type": "doctest"
      }
     ]
    },
    "q2_4": {
     "name": "q2_4",
     "points": [
      0
     ],
     "suites": [
      {
       "cases": [
        {
         "code": ">>> # Your probability output should be a value between 0 and 1.\n>>> 0 < lone_winners < 1\nTrue",
         "hidden": false,
         "locked": false
        }
       ],
       "scored": true,
       "setup": "",
       "teardown": "",
       "type": "doctest"
      }
     ]
    },
    "q2_5": {
     "name": "q2_5",
     "points": [
      0,
      0
     ],
     "suites": [
      {
       "cases": [
        {
         "code": ">>> # Make sure you are setting toys_option to an int\n>>> type(toys_option) == int\nTrue",
         "hidden": false,
         "locked": false
        },
        {
         "code": ">>> # toys_option should be assigned to either 1, 2 or 3.\n>>> 1 <= toys_option <= 3\nTrue",
         "hidden": false,
         "locked": false
        }
       ],
       "scored": true,
       "setup": "",
       "teardown": "",
       "type": "doctest"
      }
     ]
    },
    "q2_6": {
     "name": "q2_6",
     "points": [
      0,
      0
     ],
     "suites": [
      {
       "cases": [
        {
         "code": ">>> # Make sure you are setting lottery_option to an int\n>>> type(lottery_option) == int\nTrue",
         "hidden": false,
         "locked": false
        },
        {
         "code": ">>> # toys_option should be assigned to either 1, 2 or 3.\n>>> 1 <= lottery_option <= 3\nTrue",
         "hidden": false,
         "locked": false
        }
       ],
       "scored": true,
       "setup": "",
       "teardown": "",
       "type": "doctest"
      }
     ]
    },
    "q2_7": {
     "name": "q2_7",
     "points": [
      0,
      0
     ],
     "suites": [
      {
       "cases": [
        {
         "code": ">>> # Make sure you are setting coin_option to an int\n>>> type(coin_option) == int\nTrue",
         "hidden": false,
         "locked": false
        },
        {
         "code": ">>> 1 <= coin_option <= 3\nTrue",
         "hidden": false,
         "locked": false
        }
       ],
       "scored": true,
       "setup": "",
       "teardown": "",
       "type": "doctest"
      }
     ]
    },
    "q4_1": {
     "name": "q4_1",
     "points": [
      0,
      0
     ],
     "suites": [
      {
       "cases": [
        {
         "code": ">>> # The array should have length 2\n>>> len(deck_model_probabilities) == 2\nTrue",
         "hidden": false,
         "locked": false
        },
        {
         "code": ">>> # The elements in the array should add up to 1.\n>>> sum(deck_model_probabilities) == 1\nTrue",
         "hidden": false,
         "locked": false
        }
       ],
       "scored": true,
       "setup": "",
       "teardown": "",
       "type": "doctest"
      }
     ]
    },
    "q4_2": {
     "name": "q4_2",
     "points": [
      0,
      0
     ],
     "suites": [
      {
       "cases": [
        {
         "code": ">>> # Make sure you are setting statistic_choice to an int\n>>> type(statistic_choice) == int\nTrue",
         "hidden": false,
         "locked": false
        },
        {
         "code": ">>> # statistic_choice should be assigned to either 1, 2 or 3.\n>>> 1 <= statistic_choice <= 3\nTrue",
         "hidden": false,
         "locked": false
        }
       ],
       "scored": true,
       "setup": "",
       "teardown": "",
       "type": "doctest"
      }
     ]
    },
    "q4_3": {
     "name": "q4_3",
     "points": [
      0,
      5
     ],
     "suites": [
      {
       "cases": [
        {
         "code": ">>> # Make sure to return the number of face cards, not a proportion\n>>> num_face = deck_simulation_and_statistic(13, deck_model_probabilities)\n>>> num_face % 1 == 0\nTrue",
         "hidden": false,
         "locked": false
        },
        {
         "code": ">>> # The statistic should be between 0 and 13 face cards for\n>>> # a sample size of 13\n>>> num_face = deck_simulation_and_statistic(13, deck_model_probabilities)\n>>> 0 <= num_face <= 13\nTrue",
         "hidden": false,
         "locked": false
        }
       ],
       "scored": true,
       "setup": "",
       "teardown": "",
       "type": "doctest"
      }
     ]
    },
    "q4_4": {
     "name": "q4_4",
     "points": [
      2,
      3
     ],
     "suites": [
      {
       "cases": [
        {
         "code": ">>> # There should be exactly as many elements in deck_statistics\n>>> # as the number 'repetitions'\n>>> len(deck_statistics) == repetitions\nTrue",
         "hidden": false,
         "locked": false
        },
        {
         "code": ">>> # Each element of deck_statistics should be between 0\n>>> # and 13 inclusive\n>>> all([0 <= k <= 13 for k in deck_statistics])\nTrue",
         "hidden": false,
         "locked": false
        }
       ],
       "scored": true,
       "setup": "",
       "teardown": "",
       "type": "doctest"
      }
     ]
    }
   }
  }
 },
 "nbformat": 4,
 "nbformat_minor": 5
}
