{
 "cells": [
  {
   "cell_type": "code",
   "execution_count": 1,
   "id": "f17491a7",
   "metadata": {},
   "outputs": [],
   "source": [
    "from datascience import *\n",
    "import numpy as np\n",
    "\n",
    "%matplotlib inline\n",
    "import matplotlib.pyplot as plots\n",
    "plots.style.use('fivethirtyeight')"
   ]
  },
  {
   "cell_type": "code",
   "execution_count": 2,
   "id": "2952ffaf",
   "metadata": {},
   "outputs": [
    {
     "data": {
      "text/html": [
       "<table border=\"1\" class=\"dataframe\">\n",
       "    <thead>\n",
       "        <tr>\n",
       "            <th>Votes</th> <th>Rating</th> <th>Title</th> <th>Year</th> <th>Decade</th>\n",
       "        </tr>\n",
       "    </thead>\n",
       "    <tbody>\n",
       "        <tr>\n",
       "            <td>88355 </td> <td>8.4   </td> <td>M                  </td> <td>1931</td> <td>1930  </td>\n",
       "        </tr>\n",
       "        <tr>\n",
       "            <td>132823</td> <td>8.3   </td> <td>Singin' in the Rain</td> <td>1952</td> <td>1950  </td>\n",
       "        </tr>\n",
       "        <tr>\n",
       "            <td>74178 </td> <td>8.3   </td> <td>All About Eve      </td> <td>1950</td> <td>1950  </td>\n",
       "        </tr>\n",
       "        <tr>\n",
       "            <td>635139</td> <td>8.6   </td> <td>Léon               </td> <td>1994</td> <td>1990  </td>\n",
       "        </tr>\n",
       "        <tr>\n",
       "            <td>145514</td> <td>8.2   </td> <td>The Elephant Man   </td> <td>1980</td> <td>1980  </td>\n",
       "        </tr>\n",
       "    </tbody>\n",
       "</table>\n",
       "<p>... (245 rows omitted)</p>"
      ],
      "text/plain": [
       "<IPython.core.display.HTML object>"
      ]
     },
     "metadata": {},
     "output_type": "display_data"
    }
   ],
   "source": [
    "imdb = Table.read_table('imdb.csv')\n",
    "imdb.show(5)"
   ]
  },
  {
   "cell_type": "markdown",
   "id": "5b089e0f",
   "metadata": {},
   "source": [
    "# Question 1\n",
    "Find the ten movies released in the year 2000 or later with the highest number of votes according to imdb.csv. Format your answer as a table with columns Title and Votes (in that order) of the three requested movies."
   ]
  },
  {
   "cell_type": "code",
   "execution_count": 3,
   "id": "f3186998",
   "metadata": {},
   "outputs": [
    {
     "data": {
      "text/html": [
       "<table border=\"1\" class=\"dataframe\">\n",
       "    <thead>\n",
       "        <tr>\n",
       "            <th>Title</th> <th>Votes</th>\n",
       "        </tr>\n",
       "    </thead>\n",
       "    <tbody>\n",
       "        <tr>\n",
       "            <td>The Dark Knight                                  </td> <td>1473049</td>\n",
       "        </tr>\n",
       "        <tr>\n",
       "            <td>Inception                                        </td> <td>1271949</td>\n",
       "        </tr>\n",
       "        <tr>\n",
       "            <td>The Lord of the Rings: The Fellowship of the Ring</td> <td>1099087</td>\n",
       "        </tr>\n",
       "        <tr>\n",
       "            <td>The Lord of the Rings: The Return of the King    </td> <td>1074146</td>\n",
       "        </tr>\n",
       "        <tr>\n",
       "            <td>The Dark Knight Rises                            </td> <td>997350 </td>\n",
       "        </tr>\n",
       "        <tr>\n",
       "            <td>The Lord of the Rings: The Two Towers            </td> <td>967389 </td>\n",
       "        </tr>\n",
       "        <tr>\n",
       "            <td>Gladiator                                        </td> <td>862216 </td>\n",
       "        </tr>\n",
       "        <tr>\n",
       "            <td>The Avengers                                     </td> <td>862016 </td>\n",
       "        </tr>\n",
       "        <tr>\n",
       "            <td>Batman Begins                                    </td> <td>850601 </td>\n",
       "        </tr>\n",
       "        <tr>\n",
       "            <td>Django Unchained                                 </td> <td>804729 </td>\n",
       "        </tr>\n",
       "    </tbody>\n",
       "</table>"
      ],
      "text/plain": [
       "<IPython.core.display.HTML object>"
      ]
     },
     "metadata": {},
     "output_type": "display_data"
    }
   ],
   "source": [
    "t=imdb.where('Year',are.above_or_equal_to(2000)).sort(\"Votes\", descending=True).take(np.arange(0,10))\n",
    "b=t.select(\"Title\",\"Votes\")\n",
    "b.show(10)"
   ]
  },
  {
   "cell_type": "markdown",
   "id": "ce5d30cb",
   "metadata": {},
   "source": [
    "# Question 2\n",
    "\n",
    "Create a table with columns Title and Votes containing all movies released in 1999.\n",
    "\n",
    "Next, attach a new column to the table called Percent Votes that contains the percent of votes each movie received when considered among all votes cast for movies released in 1999.\n",
    "\n",
    "For example, if the total number of votes cast for movies released in 1999 is 200 and \"The Matrix\" received 30 of them, then the column Percent Votes corresponding to \"The Matrix\" should 15."
   ]
  },
  {
   "cell_type": "code",
   "execution_count": 25,
   "id": "e52b9dde",
   "metadata": {},
   "outputs": [
    {
     "data": {
      "text/html": [
       "<table border=\"1\" class=\"dataframe\">\n",
       "    <thead>\n",
       "        <tr>\n",
       "            <th>Title</th> <th>Votes</th> <th>Percent Votes</th>\n",
       "        </tr>\n",
       "    </thead>\n",
       "    <tbody>\n",
       "        <tr>\n",
       "            <td>Fight Club     </td> <td>1177098</td> <td>27.4441      </td>\n",
       "        </tr>\n",
       "        <tr>\n",
       "            <td>American Beauty</td> <td>735056 </td> <td>17.1379      </td>\n",
       "        </tr>\n",
       "        <tr>\n",
       "            <td>The Sixth Sense</td> <td>630994 </td> <td>14.7117      </td>\n",
       "        </tr>\n",
       "        <tr>\n",
       "            <td>The Matrix     </td> <td>1073043</td> <td>25.0181      </td>\n",
       "        </tr>\n",
       "        <tr>\n",
       "            <td>The Green Mile </td> <td>672878 </td> <td>15.6882      </td>\n",
       "        </tr>\n",
       "    </tbody>\n",
       "</table>"
      ],
      "text/plain": [
       "Title           | Votes   | Percent Votes\n",
       "Fight Club      | 1177098 | 27.4441\n",
       "American Beauty | 735056  | 17.1379\n",
       "The Sixth Sense | 630994  | 14.7117\n",
       "The Matrix      | 1073043 | 25.0181\n",
       "The Green Mile  | 672878  | 15.6882"
      ]
     },
     "execution_count": 25,
     "metadata": {},
     "output_type": "execute_result"
    }
   ],
   "source": [
    "z=imdb.where('Year',(1999))\n",
    "x=z.select(\"Title\",\"Votes\")\n",
    "d=x.column('Votes')\n",
    "f= sum(d)\n",
    "i=(d/f)*100\n",
    "x=x.with_column(\"Percent Votes\", i)\n",
    "x"
   ]
  }
 ],
 "metadata": {
  "kernelspec": {
   "display_name": "Python 3",
   "language": "python",
   "name": "python3"
  },
  "language_info": {
   "codemirror_mode": {
    "name": "ipython",
    "version": 3
   },
   "file_extension": ".py",
   "mimetype": "text/x-python",
   "name": "python",
   "nbconvert_exporter": "python",
   "pygments_lexer": "ipython3",
   "version": "3.12.1"
  }
 },
 "nbformat": 4,
 "nbformat_minor": 5
}
