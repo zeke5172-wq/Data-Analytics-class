{
 "cells": [
  {
   "cell_type": "code",
   "execution_count": 2,
   "metadata": {
    "deletable": false,
    "editable": false
   },
   "outputs": [
    {
     "name": "stderr",
     "output_type": "stream",
     "text": [
      "/home/codespace/.local/lib/python3.12/site-packages/nbformat/__init__.py:96: MissingIDFieldWarning: Cell is missing an id field, this will become a hard error in future nbformat versions. You may want to use `normalize()` on your notebooks before validations (available since nbformat 5.1.4). Previous versions of nbformat are fixing this issue transparently, and will stop doing so in the future.\n",
      "  validate(nb)\n"
     ]
    }
   ],
   "source": [
    "# Initialize Otter\n",
    "import otter\n",
    "grader = otter.Notebook(\"hw03.ipynb\")"
   ]
  },
  {
   "cell_type": "markdown",
   "metadata": {},
   "source": [
    "# Homework 3: Table Manipulation and Visualization\n",
    "\n",
    "Please complete this notebook by filling in the cells provided. Before you begin, execute the previous cell to load the provided tests."
   ]
  },
  {
   "attachments": {},
   "cell_type": "markdown",
   "metadata": {},
   "source": [
    "**Helpful Resource:**\n",
    "- [Python Reference](http://data8.org/su24/reference/): Cheat sheet of helpful array & table methods used in Data 8!\n",
    "\n",
    "**Recommended Reading**: \n",
    "* [Visualization](https://inferentialthinking.com/chapters/07/Visualization.html)"
   ]
  },
  {
   "cell_type": "code",
   "execution_count": 3,
   "metadata": {},
   "outputs": [],
   "source": [
    "# Don't change this cell; just run it. \n",
    "\n",
    "import numpy as np\n",
    "from datascience import *\n",
    "import warnings\n",
    "warnings.simplefilter('ignore', FutureWarning)\n",
    "\n",
    "# These lines do some fancy plotting magic.\\n\",\n",
    "import matplotlib\n",
    "%matplotlib inline\n",
    "import matplotlib.pyplot as plt\n",
    "plt.style.use('fivethirtyeight')"
   ]
  },
  {
   "cell_type": "markdown",
   "metadata": {},
   "source": [
    "## 1. Unemployment"
   ]
  },
  {
   "cell_type": "markdown",
   "metadata": {},
   "source": [
    "The Great Recession of 2008-2009 was a period of economic decline observed globally, with scale and timing varying from country to country. In the United States, it resulted in a rapid rise in unemployment that affected industries and population groups to different extents.\n",
    "\n",
    "The Federal Reserve Bank of St. Louis publishes data about jobs in the US.  Below, we've loaded data on unemployment in the United States. There are many ways of defining unemployment, and our dataset includes two notions of the unemployment rate:\n",
    "\n",
    "1. *Non-Employment Index (or NEI)*: Among people who are able to work and are looking for a full-time job, the percentage who can't find a job.\n",
    "2. *NEI-PTER*: Among people who are able to work and are looking for a full-time job, the percentage who can't find any job *or* are only working at a part-time job.  The latter group is called \"Part-Time for Economic Reasons\", so the acronym for this index is NEI-PTER.  (Economists are great at marketing.)\n",
    "\n",
    "The source of the data is [here](https://fred.stlouisfed.org/categories/33509)."
   ]
  },
  {
   "cell_type": "markdown",
   "metadata": {},
   "source": [
    "**Question 1.** The data are in a CSV file called `unemployment.csv`.  Load that file into a table called `unemployment`.\n",
    "\n",
    "_Hint:_ After loading in the CSV file, the `unemployment` table should look like this:\n",
    "\n",
    "<img src=\"unemployment.png\" width=\"20%\"/>\n"
   ]
  },
  {
   "cell_type": "code",
   "execution_count": 4,
   "metadata": {
    "tags": []
   },
   "outputs": [
    {
     "data": {
      "text/html": [
       "<table border=\"1\" class=\"dataframe\">\n",
       "    <thead>\n",
       "        <tr>\n",
       "            <th>Date</th> <th>NEI</th> <th>NEI-PTER</th>\n",
       "        </tr>\n",
       "    </thead>\n",
       "    <tbody>\n",
       "        <tr>\n",
       "            <td>1994-01-01</td> <td>10.0974</td> <td>11.172  </td>\n",
       "        </tr>\n",
       "        <tr>\n",
       "            <td>1994-04-01</td> <td>9.6239 </td> <td>10.7883 </td>\n",
       "        </tr>\n",
       "        <tr>\n",
       "            <td>1994-07-01</td> <td>9.3276 </td> <td>10.4831 </td>\n",
       "        </tr>\n",
       "        <tr>\n",
       "            <td>1994-10-01</td> <td>9.1071 </td> <td>10.2361 </td>\n",
       "        </tr>\n",
       "        <tr>\n",
       "            <td>1995-01-01</td> <td>8.9693 </td> <td>10.1832 </td>\n",
       "        </tr>\n",
       "        <tr>\n",
       "            <td>1995-04-01</td> <td>9.0314 </td> <td>10.1071 </td>\n",
       "        </tr>\n",
       "        <tr>\n",
       "            <td>1995-07-01</td> <td>8.9802 </td> <td>10.1084 </td>\n",
       "        </tr>\n",
       "        <tr>\n",
       "            <td>1995-10-01</td> <td>8.9932 </td> <td>10.1046 </td>\n",
       "        </tr>\n",
       "        <tr>\n",
       "            <td>1996-01-01</td> <td>9.0002 </td> <td>10.0531 </td>\n",
       "        </tr>\n",
       "        <tr>\n",
       "            <td>1996-04-01</td> <td>8.9038 </td> <td>9.9782  </td>\n",
       "        </tr>\n",
       "    </tbody>\n",
       "</table>\n",
       "<p>... (80 rows omitted)</p>"
      ],
      "text/plain": [
       "Date       | NEI     | NEI-PTER\n",
       "1994-01-01 | 10.0974 | 11.172\n",
       "1994-04-01 | 9.6239  | 10.7883\n",
       "1994-07-01 | 9.3276  | 10.4831\n",
       "1994-10-01 | 9.1071  | 10.2361\n",
       "1995-01-01 | 8.9693  | 10.1832\n",
       "1995-04-01 | 9.0314  | 10.1071\n",
       "1995-07-01 | 8.9802  | 10.1084\n",
       "1995-10-01 | 8.9932  | 10.1046\n",
       "1996-01-01 | 9.0002  | 10.0531\n",
       "1996-04-01 | 8.9038  | 9.9782\n",
       "... (80 rows omitted)"
      ]
     },
     "execution_count": 4,
     "metadata": {},
     "output_type": "execute_result"
    }
   ],
   "source": [
    "unemployment = Table().read_table(\"unemployment.csv\")\n",
    "unemployment"
   ]
  },
  {
   "cell_type": "code",
   "execution_count": 5,
   "metadata": {
    "deletable": false,
    "editable": false
   },
   "outputs": [
    {
     "data": {
      "text/html": [
       "<p><strong><pre style='display: inline;'>q1_1</pre></strong> passed! 🚀</p>"
      ],
      "text/plain": [
       "q1_1 results: All test cases passed!"
      ]
     },
     "execution_count": 5,
     "metadata": {},
     "output_type": "execute_result"
    }
   ],
   "source": [
    "grader.check(\"q1_1\")"
   ]
  },
  {
   "cell_type": "markdown",
   "metadata": {},
   "source": [
    "**Question 2.** Sort the data in descending order by NEI, naming the sorted table `by_nei`.  Create another table called `by_nei_pter` that's sorted in descending order by NEI-PTER instead.\n"
   ]
  },
  {
   "cell_type": "code",
   "execution_count": 6,
   "metadata": {
    "tags": []
   },
   "outputs": [],
   "source": [
    "by_nei = unemployment.sort(\"NEI\",descending=True)\n",
    "by_nei_pter = unemployment.sort(\"NEI-PTER\",descending=True)"
   ]
  },
  {
   "cell_type": "code",
   "execution_count": 7,
   "metadata": {
    "deletable": false,
    "editable": false
   },
   "outputs": [
    {
     "data": {
      "text/html": [
       "<p><strong><pre style='display: inline;'>q1_2</pre></strong> passed! 💯</p>"
      ],
      "text/plain": [
       "q1_2 results: All test cases passed!"
      ]
     },
     "execution_count": 7,
     "metadata": {},
     "output_type": "execute_result"
    }
   ],
   "source": [
    "grader.check(\"q1_2\")"
   ]
  },
  {
   "cell_type": "code",
   "execution_count": 8,
   "metadata": {},
   "outputs": [
    {
     "data": {
      "text/html": [
       "<table border=\"1\" class=\"dataframe\">\n",
       "    <thead>\n",
       "        <tr>\n",
       "            <th>Date</th> <th>NEI</th> <th>NEI-PTER</th>\n",
       "        </tr>\n",
       "    </thead>\n",
       "    <tbody>\n",
       "        <tr>\n",
       "            <td>2009-10-01</td> <td>10.9698</td> <td>12.8557 </td>\n",
       "        </tr>\n",
       "        <tr>\n",
       "            <td>2010-01-01</td> <td>10.9054</td> <td>12.7311 </td>\n",
       "        </tr>\n",
       "        <tr>\n",
       "            <td>2009-07-01</td> <td>10.8089</td> <td>12.7404 </td>\n",
       "        </tr>\n",
       "        <tr>\n",
       "            <td>2009-04-01</td> <td>10.7082</td> <td>12.5497 </td>\n",
       "        </tr>\n",
       "        <tr>\n",
       "            <td>2010-04-01</td> <td>10.6597</td> <td>12.5664 </td>\n",
       "        </tr>\n",
       "    </tbody>\n",
       "</table>\n",
       "<p>... (85 rows omitted)</p>"
      ],
      "text/plain": [
       "<IPython.core.display.HTML object>"
      ]
     },
     "metadata": {},
     "output_type": "display_data"
    }
   ],
   "source": [
    "# Run this cell to check your by_nei table. You do not need to change the code.\n",
    "by_nei.show(5)"
   ]
  },
  {
   "cell_type": "code",
   "execution_count": 9,
   "metadata": {},
   "outputs": [
    {
     "data": {
      "text/html": [
       "<table border=\"1\" class=\"dataframe\">\n",
       "    <thead>\n",
       "        <tr>\n",
       "            <th>Date</th> <th>NEI</th> <th>NEI-PTER</th>\n",
       "        </tr>\n",
       "    </thead>\n",
       "    <tbody>\n",
       "        <tr>\n",
       "            <td>2009-10-01</td> <td>10.9698</td> <td>12.8557 </td>\n",
       "        </tr>\n",
       "        <tr>\n",
       "            <td>2009-07-01</td> <td>10.8089</td> <td>12.7404 </td>\n",
       "        </tr>\n",
       "        <tr>\n",
       "            <td>2010-01-01</td> <td>10.9054</td> <td>12.7311 </td>\n",
       "        </tr>\n",
       "        <tr>\n",
       "            <td>2010-04-01</td> <td>10.6597</td> <td>12.5664 </td>\n",
       "        </tr>\n",
       "        <tr>\n",
       "            <td>2009-04-01</td> <td>10.7082</td> <td>12.5497 </td>\n",
       "        </tr>\n",
       "    </tbody>\n",
       "</table>\n",
       "<p>... (85 rows omitted)</p>"
      ],
      "text/plain": [
       "<IPython.core.display.HTML object>"
      ]
     },
     "metadata": {},
     "output_type": "display_data"
    }
   ],
   "source": [
    "# Run this cell to check your by_nei_pter table. You do not need to change the code.\n",
    "by_nei_pter.show(5)"
   ]
  },
  {
   "cell_type": "markdown",
   "metadata": {},
   "source": [
    "**Question 3.** Using `take`, assign `greatest_nei` to a table containing the data for the 11 quarters when NEI was greatest.\n",
    "\n",
    "`greatest_nei` should be sorted in descending order of `NEI`. Note that each row of `unemployment` represents a quarter.\n"
   ]
  },
  {
   "cell_type": "code",
   "execution_count": 10,
   "metadata": {
    "tags": []
   },
   "outputs": [
    {
     "data": {
      "text/html": [
       "<table border=\"1\" class=\"dataframe\">\n",
       "    <thead>\n",
       "        <tr>\n",
       "            <th>Date</th> <th>NEI</th> <th>NEI-PTER</th>\n",
       "        </tr>\n",
       "    </thead>\n",
       "    <tbody>\n",
       "        <tr>\n",
       "            <td>2009-10-01</td> <td>10.9698</td> <td>12.8557 </td>\n",
       "        </tr>\n",
       "        <tr>\n",
       "            <td>2010-01-01</td> <td>10.9054</td> <td>12.7311 </td>\n",
       "        </tr>\n",
       "        <tr>\n",
       "            <td>2009-07-01</td> <td>10.8089</td> <td>12.7404 </td>\n",
       "        </tr>\n",
       "        <tr>\n",
       "            <td>2009-04-01</td> <td>10.7082</td> <td>12.5497 </td>\n",
       "        </tr>\n",
       "        <tr>\n",
       "            <td>2010-04-01</td> <td>10.6597</td> <td>12.5664 </td>\n",
       "        </tr>\n",
       "        <tr>\n",
       "            <td>2010-10-01</td> <td>10.5856</td> <td>12.4329 </td>\n",
       "        </tr>\n",
       "        <tr>\n",
       "            <td>2010-07-01</td> <td>10.5521</td> <td>12.3897 </td>\n",
       "        </tr>\n",
       "        <tr>\n",
       "            <td>2011-01-01</td> <td>10.5024</td> <td>12.3017 </td>\n",
       "        </tr>\n",
       "        <tr>\n",
       "            <td>2011-07-01</td> <td>10.4856</td> <td>12.2507 </td>\n",
       "        </tr>\n",
       "        <tr>\n",
       "            <td>2011-04-01</td> <td>10.4409</td> <td>12.247  </td>\n",
       "        </tr>\n",
       "    </tbody>\n",
       "</table>\n",
       "<p>... (1 rows omitted)</p>"
      ],
      "text/plain": [
       "Date       | NEI     | NEI-PTER\n",
       "2009-10-01 | 10.9698 | 12.8557\n",
       "2010-01-01 | 10.9054 | 12.7311\n",
       "2009-07-01 | 10.8089 | 12.7404\n",
       "2009-04-01 | 10.7082 | 12.5497\n",
       "2010-04-01 | 10.6597 | 12.5664\n",
       "2010-10-01 | 10.5856 | 12.4329\n",
       "2010-07-01 | 10.5521 | 12.3897\n",
       "2011-01-01 | 10.5024 | 12.3017\n",
       "2011-07-01 | 10.4856 | 12.2507\n",
       "2011-04-01 | 10.4409 | 12.247\n",
       "... (1 rows omitted)"
      ]
     },
     "execution_count": 10,
     "metadata": {},
     "output_type": "execute_result"
    }
   ],
   "source": [
    "greatest_nei = by_nei.take(np.arange(11))\n",
    "greatest_nei"
   ]
  },
  {
   "cell_type": "code",
   "execution_count": 11,
   "metadata": {
    "deletable": false,
    "editable": false
   },
   "outputs": [
    {
     "data": {
      "text/html": [
       "<p><strong><pre style='display: inline;'>q1_3</pre></strong> passed! 🚀</p>"
      ],
      "text/plain": [
       "q1_3 results: All test cases passed!"
      ]
     },
     "execution_count": 11,
     "metadata": {},
     "output_type": "execute_result"
    }
   ],
   "source": [
    "grader.check(\"q1_3\")"
   ]
  },
  {
   "cell_type": "markdown",
   "metadata": {},
   "source": [
    "**Question 4.** It's believed that many people became PTER (recall: \"Part-Time for Economic Reasons\") in the \"Great Recession\" of 2008-2009.  NEI-PTER is the percentage of people who are unemployed (included in the NEI) plus the percentage of people who are PTER.\n",
    "\n",
    "Compute an array containing the percentage of people who were PTER in each quarter.  (The first element of the array should correspond to the first row of `unemployment`, and so on.)\n",
    "\n",
    "*Note:* Use the original `unemployment` table for this.\n"
   ]
  },
  {
   "cell_type": "code",
   "execution_count": 26,
   "metadata": {
    "tags": []
   },
   "outputs": [
    {
     "data": {
      "text/plain": [
       "array([ 11.172 ,  10.7883,  10.4831,  10.2361,  10.1832,  10.1071,\n",
       "        10.1084,  10.1046,  10.0531,   9.9782,   9.8631,   9.7301,\n",
       "         9.7366,   9.537 ,   9.3037,   9.2069,   9.0969,   8.8923,\n",
       "         9.0645,   8.8935,   8.7141,   8.9188,   8.7204,   8.541 ,\n",
       "         8.3379,   8.4199,   8.4458,   8.4192,   8.4969,   8.804 ,\n",
       "         8.9862,   9.6705,   9.93  ,   9.8924,   9.8211,   9.6759,\n",
       "         9.9142,  10.0221,  10.0877,   9.9961,   9.8511,   9.7344,\n",
       "         9.6846,   9.7019,   9.5387,   9.4368,   9.3486,   9.3271,\n",
       "         9.178 ,   9.1606,   9.142 ,   9.0866,   9.0183,   9.1577,\n",
       "         9.1351,   9.2266,   9.3475,   9.5938,  10.1713,  10.689 ,\n",
       "        12.0139,  12.5497,  12.7404,  12.8557,  12.7311,  12.5664,\n",
       "        12.3897,  12.4329,  12.3017,  12.247 ,  12.2507,  12.1214,\n",
       "        11.7973,  11.6771,  11.7318,  11.5387,  11.7434,  11.4562,\n",
       "        11.2893,  11.2656,  10.7737,  10.663 ,  10.5998,  10.4158,\n",
       "        10.281 ,  10.1483,   9.9166,   9.8385,   9.6174,   9.7146])"
      ]
     },
     "execution_count": 26,
     "metadata": {},
     "output_type": "execute_result"
    }
   ],
   "source": [
    "pter = unemployment.column(\"NEI-PTER\")\n",
    "pter"
   ]
  },
  {
   "cell_type": "code",
   "execution_count": 27,
   "metadata": {
    "deletable": false,
    "editable": false
   },
   "outputs": [
    {
     "data": {
      "text/html": [
       "<p><strong style='color: red;'><pre style='display: inline;'>q1_4</pre> results:</strong></p><p><strong><pre style='display: inline;'>q1_4 - 1</pre> result:</strong></p><pre>    ✅ Test case passed</pre><p><strong><pre style='display: inline;'>q1_4 - 2</pre> result:</strong></p><pre>    ❌ Test case failed\n",
       "    Trying:\n",
       "        round(pter.item(6), 4)\n",
       "    Expecting:\n",
       "        1.1282\n",
       "    **********************************************************************\n",
       "    Line 1, in q1_4 1\n",
       "    Failed example:\n",
       "        round(pter.item(6), 4)\n",
       "    Expected:\n",
       "        1.1282\n",
       "    Got:\n",
       "        10.1084\n",
       "</pre>"
      ],
      "text/plain": [
       "q1_4 results:\n",
       "    q1_4 - 1 result:\n",
       "        ✅ Test case passed\n",
       "\n",
       "    q1_4 - 2 result:\n",
       "        ❌ Test case failed\n",
       "        Trying:\n",
       "            round(pter.item(6), 4)\n",
       "        Expecting:\n",
       "            1.1282\n",
       "        **********************************************************************\n",
       "        Line 1, in q1_4 1\n",
       "        Failed example:\n",
       "            round(pter.item(6), 4)\n",
       "        Expected:\n",
       "            1.1282\n",
       "        Got:\n",
       "            10.1084"
      ]
     },
     "execution_count": 27,
     "metadata": {},
     "output_type": "execute_result"
    }
   ],
   "source": [
    "grader.check(\"q1_4\")"
   ]
  },
  {
   "cell_type": "markdown",
   "metadata": {},
   "source": [
    "**Question 5.** Add `pter` as a column to `unemployment` (name the column `PTER`) and sort the resulting table by that column in descending order.  Call the resulting table `by_pter`.\n",
    "\n",
    "Try to do this with a single line of code, if you can.\n"
   ]
  },
  {
   "cell_type": "code",
   "execution_count": 31,
   "metadata": {
    "tags": []
   },
   "outputs": [
    {
     "data": {
      "text/html": [
       "<table border=\"1\" class=\"dataframe\">\n",
       "    <thead>\n",
       "        <tr>\n",
       "            <th>Date</th> <th>NEI</th> <th>NEI-PTER</th> <th>PTER</th>\n",
       "        </tr>\n",
       "    </thead>\n",
       "    <tbody>\n",
       "        <tr>\n",
       "            <td>1994-01-01</td> <td>10.0974</td> <td>11.172  </td> <td>11.172 </td>\n",
       "        </tr>\n",
       "        <tr>\n",
       "            <td>1994-04-01</td> <td>9.6239 </td> <td>10.7883 </td> <td>10.7883</td>\n",
       "        </tr>\n",
       "        <tr>\n",
       "            <td>1994-07-01</td> <td>9.3276 </td> <td>10.4831 </td> <td>10.4831</td>\n",
       "        </tr>\n",
       "        <tr>\n",
       "            <td>1994-10-01</td> <td>9.1071 </td> <td>10.2361 </td> <td>10.2361</td>\n",
       "        </tr>\n",
       "        <tr>\n",
       "            <td>1995-01-01</td> <td>8.9693 </td> <td>10.1832 </td> <td>10.1832</td>\n",
       "        </tr>\n",
       "        <tr>\n",
       "            <td>1995-04-01</td> <td>9.0314 </td> <td>10.1071 </td> <td>10.1071</td>\n",
       "        </tr>\n",
       "        <tr>\n",
       "            <td>1995-07-01</td> <td>8.9802 </td> <td>10.1084 </td> <td>10.1084</td>\n",
       "        </tr>\n",
       "        <tr>\n",
       "            <td>1995-10-01</td> <td>8.9932 </td> <td>10.1046 </td> <td>10.1046</td>\n",
       "        </tr>\n",
       "        <tr>\n",
       "            <td>1996-01-01</td> <td>9.0002 </td> <td>10.0531 </td> <td>10.0531</td>\n",
       "        </tr>\n",
       "        <tr>\n",
       "            <td>1996-04-01</td> <td>8.9038 </td> <td>9.9782  </td> <td>9.9782 </td>\n",
       "        </tr>\n",
       "    </tbody>\n",
       "</table>\n",
       "<p>... (80 rows omitted)</p>"
      ],
      "text/plain": [
       "Date       | NEI     | NEI-PTER | PTER\n",
       "1994-01-01 | 10.0974 | 11.172   | 11.172\n",
       "1994-04-01 | 9.6239  | 10.7883  | 10.7883\n",
       "1994-07-01 | 9.3276  | 10.4831  | 10.4831\n",
       "1994-10-01 | 9.1071  | 10.2361  | 10.2361\n",
       "1995-01-01 | 8.9693  | 10.1832  | 10.1832\n",
       "1995-04-01 | 9.0314  | 10.1071  | 10.1071\n",
       "1995-07-01 | 8.9802  | 10.1084  | 10.1084\n",
       "1995-10-01 | 8.9932  | 10.1046  | 10.1046\n",
       "1996-01-01 | 9.0002  | 10.0531  | 10.0531\n",
       "1996-04-01 | 8.9038  | 9.9782   | 9.9782\n",
       "... (80 rows omitted)"
      ]
     },
     "execution_count": 31,
     "metadata": {},
     "output_type": "execute_result"
    }
   ],
   "source": [
    "by_pter = unemployment.with_column(\"PTER\", pter)\n",
    "by_pter"
   ]
  },
  {
   "cell_type": "code",
   "execution_count": 32,
   "metadata": {
    "deletable": false,
    "editable": false
   },
   "outputs": [
    {
     "data": {
      "text/html": [
       "<p><strong style='color: red;'><pre style='display: inline;'>q1_5</pre> results:</strong></p><p><strong><pre style='display: inline;'>q1_5 - 1</pre> result:</strong></p><pre>    ❌ Test case failed\n",
       "    Trying:\n",
       "        by_pter.take(0)\n",
       "    Expecting:\n",
       "        Date       | NEI     | NEI-PTER | PTER\n",
       "        2009-07-01 | 10.8089 | 12.7404  | 1.9315\n",
       "    **********************************************************************\n",
       "    Line 1, in q1_5 0\n",
       "    Failed example:\n",
       "        by_pter.take(0)\n",
       "    Expected:\n",
       "        Date       | NEI     | NEI-PTER | PTER\n",
       "        2009-07-01 | 10.8089 | 12.7404  | 1.9315\n",
       "    Got:\n",
       "        Date       | NEI     | NEI-PTER | PTER\n",
       "        1994-01-01 | 10.0974 | 11.172   | 11.172\n",
       "</pre>"
      ],
      "text/plain": [
       "q1_5 results:\n",
       "    q1_5 - 1 result:\n",
       "        ❌ Test case failed\n",
       "        Trying:\n",
       "            by_pter.take(0)\n",
       "        Expecting:\n",
       "            Date       | NEI     | NEI-PTER | PTER\n",
       "            2009-07-01 | 10.8089 | 12.7404  | 1.9315\n",
       "        **********************************************************************\n",
       "        Line 1, in q1_5 0\n",
       "        Failed example:\n",
       "            by_pter.take(0)\n",
       "        Expected:\n",
       "            Date       | NEI     | NEI-PTER | PTER\n",
       "            2009-07-01 | 10.8089 | 12.7404  | 1.9315\n",
       "        Got:\n",
       "            Date       | NEI     | NEI-PTER | PTER\n",
       "            1994-01-01 | 10.0974 | 11.172   | 11.172"
      ]
     },
     "execution_count": 32,
     "metadata": {},
     "output_type": "execute_result"
    }
   ],
   "source": [
    "grader.check(\"q1_5\")"
   ]
  },
  {
   "cell_type": "markdown",
   "metadata": {},
   "source": [
    "**Question 6.** Create a line plot of PTER over time. To do this, create a new table called `pter_over_time` with the same columns as the `unemployment` table with the addition of two new columns: `Year` and `PTER` using the `year` array and the `pter` array, respectively. Then, generate a line plot using one of the table methods you've learned in class.\n",
    "\n",
    "The order of the columns matter for our correctness tests, so be sure `Year` comes before `PTER`.\n",
    "\n",
    "*Note:* When constructing `pter_over_time`, do not just add the `year` column to the `by_pter` table. Please follow the directions in the question above.\n"
   ]
  },
  {
   "cell_type": "code",
   "execution_count": null,
   "metadata": {
    "tags": []
   },
   "outputs": [],
   "source": [
    "year = 1994 + np.arange(by_pter.num_rows)/4\n",
    "pter_over_time = ...\n",
    "...\n",
    "plt.ylim(0,2); # Do not change this line"
   ]
  },
  {
   "cell_type": "code",
   "execution_count": null,
   "metadata": {
    "deletable": false,
    "editable": false
   },
   "outputs": [],
   "source": [
    "grader.check(\"q1_6\")"
   ]
  },
  {
   "cell_type": "markdown",
   "metadata": {},
   "source": [
    "**Question 7.** Were PTER rates high during the Great Recession (that is to say, were PTER rates particularly high in the years 2008 through 2011)? Assign `highPTER` to `True` if you think PTER rates were high in this period, or `False` if you think they weren't.\n"
   ]
  },
  {
   "cell_type": "code",
   "execution_count": null,
   "metadata": {
    "tags": []
   },
   "outputs": [],
   "source": [
    "highPTER = ..."
   ]
  },
  {
   "cell_type": "code",
   "execution_count": null,
   "metadata": {
    "deletable": false,
    "editable": false
   },
   "outputs": [],
   "source": [
    "grader.check(\"q1_7\")"
   ]
  },
  {
   "cell_type": "markdown",
   "metadata": {},
   "source": [
    "## 2. Birth Rates"
   ]
  },
  {
   "cell_type": "markdown",
   "metadata": {},
   "source": [
    "The following table gives Census-based population estimates for each US state on both July 1, 2015 and July 1, 2016. The last four columns describe the components of the estimated change in population during this time interval. **For all questions below, assume that the word \"states\" refers to all 52 rows including Puerto Rico and the District of Columbia.**\n",
    "\n",
    "The data was taken from [here](http://www2.census.gov/programs-surveys/popest/datasets/2010-2016/national/totals/nst-est2016-alldata.csv). (Note: If the file doesn't download for you when you click the link, you can copy and paste the link address it into your address bar!) If you want to read more about the different column descriptions, click [here](http://www2.census.gov/programs-surveys/popest/datasets/2010-2015/national/totals/nst-est2015-alldata.pdf).\n",
    "\n",
    "The raw data is a bit messy—run the cell below to clean the table and make it easier to work with."
   ]
  },
  {
   "cell_type": "code",
   "execution_count": 33,
   "metadata": {},
   "outputs": [
    {
     "data": {
      "text/html": [
       "<table border=\"1\" class=\"dataframe\">\n",
       "    <thead>\n",
       "        <tr>\n",
       "            <th>REGION</th> <th>NAME</th> <th>2015</th> <th>2016</th> <th>BIRTHS</th> <th>DEATHS</th> <th>MIGRATION</th> <th>OTHER</th>\n",
       "        </tr>\n",
       "    </thead>\n",
       "    <tbody>\n",
       "        <tr>\n",
       "            <td>3     </td> <td>Alabama   </td> <td>4,853,875 </td> <td>4,863,300 </td> <td>58,556 </td> <td>52,405 </td> <td>3,874    </td> <td>-600  </td>\n",
       "        </tr>\n",
       "        <tr>\n",
       "            <td>4     </td> <td>Alaska    </td> <td>737,709   </td> <td>741,894   </td> <td>11,255 </td> <td>4,511  </td> <td>-2,557   </td> <td>-2    </td>\n",
       "        </tr>\n",
       "        <tr>\n",
       "            <td>4     </td> <td>Arizona   </td> <td>6,817,565 </td> <td>6,931,071 </td> <td>87,204 </td> <td>56,564 </td> <td>76,405   </td> <td>6,461 </td>\n",
       "        </tr>\n",
       "        <tr>\n",
       "            <td>3     </td> <td>Arkansas  </td> <td>2,977,853 </td> <td>2,988,248 </td> <td>37,936 </td> <td>30,581 </td> <td>3,530    </td> <td>-490  </td>\n",
       "        </tr>\n",
       "        <tr>\n",
       "            <td>4     </td> <td>California</td> <td>38,993,940</td> <td>39,250,017</td> <td>502,848</td> <td>273,850</td> <td>33,530   </td> <td>-6,451</td>\n",
       "        </tr>\n",
       "    </tbody>\n",
       "</table>\n",
       "<p>... (47 rows omitted)</p>"
      ],
      "text/plain": [
       "<IPython.core.display.HTML object>"
      ]
     },
     "metadata": {},
     "output_type": "display_data"
    }
   ],
   "source": [
    "# Don't change this cell; just run it.\n",
    "pop = Table.read_table('nst-est2016-alldata.csv').where('SUMLEV', 40).select([1, 4, 12, 13, 27, 34, 62, 69])\n",
    "pop = pop.relabeled('POPESTIMATE2015', '2015').relabeled('POPESTIMATE2016', '2016')\n",
    "pop = pop.relabeled('BIRTHS2016', 'BIRTHS').relabeled('DEATHS2016', 'DEATHS')\n",
    "pop = pop.relabeled('NETMIG2016', 'MIGRATION').relabeled('RESIDUAL2016', 'OTHER')\n",
    "pop = pop.with_columns(\"REGION\", np.array([int(region) if region != \"X\" else 0 for region in pop.column(\"REGION\")]))\n",
    "pop.set_format([2, 3, 4, 5, 6, 7], NumberFormatter(decimals=0)).show(5)"
   ]
  },
  {
   "cell_type": "markdown",
   "metadata": {},
   "source": [
    "**Question 1.** Assign `us_birth_rate` to the total US annual birth rate during this time interval. The annual birth rate for a year-long period is the total number of births in that period as a proportion of the total population size at the start of the time period.\n",
    "\n",
    "_Hint:_ Remember that each row in the `pop` table refers to a state, not the US as a whole.\n"
   ]
  },
  {
   "cell_type": "code",
   "execution_count": 42,
   "metadata": {
    "tags": []
   },
   "outputs": [
    {
     "data": {
      "text/plain": [
       "0.012358536498646102"
      ]
     },
     "execution_count": 42,
     "metadata": {},
     "output_type": "execute_result"
    }
   ],
   "source": [
    "us_birth_rate = sum(pop.column(\"BIRTHS\"))/sum(pop.column(\"2015\"))\n",
    "us_birth_rate"
   ]
  },
  {
   "cell_type": "code",
   "execution_count": 43,
   "metadata": {
    "deletable": false,
    "editable": false
   },
   "outputs": [
    {
     "data": {
      "text/html": [
       "<p><strong><pre style='display: inline;'>q2_1</pre></strong> passed! 🚀</p>"
      ],
      "text/plain": [
       "q2_1 results: All test cases passed!"
      ]
     },
     "execution_count": 43,
     "metadata": {},
     "output_type": "execute_result"
    }
   ],
   "source": [
    "grader.check(\"q2_1\")"
   ]
  },
  {
   "cell_type": "markdown",
   "metadata": {},
   "source": [
    "**Question 2.** Assign `movers` to the number of states for which the **absolute value** of the **annual rate of migration** was higher than 1%. The annual rate of migration for a year-long period is the net number of migrations (in and out) as a proportion of the population size at the start of the period. The `MIGRATION` column contains estimated annual net migration counts by state.\n",
    "\n",
    "*Hint*: `migration_rates` should be a table and `movers` should be a number.\n"
   ]
  },
  {
   "cell_type": "code",
   "execution_count": null,
   "metadata": {
    "tags": []
   },
   "outputs": [],
   "source": [
    "migration_rates = ...\n",
    "movers = ...\n",
    "movers"
   ]
  },
  {
   "cell_type": "code",
   "execution_count": null,
   "metadata": {
    "deletable": false,
    "editable": false
   },
   "outputs": [],
   "source": [
    "grader.check(\"q2_2\")"
   ]
  },
  {
   "cell_type": "markdown",
   "metadata": {},
   "source": [
    "**Question 3.** Assign `west_births` to the total number of births that occurred in region 4 (the Western US).\n",
    "\n",
    "*Hint:* Make sure you double check the type of the values in the `REGION` column and appropriately filter (i.e. the types must match!).\n"
   ]
  },
  {
   "cell_type": "code",
   "execution_count": null,
   "metadata": {
    "tags": []
   },
   "outputs": [],
   "source": [
    "west_births = ...\n",
    "west_births"
   ]
  },
  {
   "cell_type": "code",
   "execution_count": null,
   "metadata": {
    "deletable": false,
    "editable": false
   },
   "outputs": [],
   "source": [
    "grader.check(\"q2_3\")"
   ]
  },
  {
   "cell_type": "markdown",
   "metadata": {},
   "source": [
    "**Question 4.** In the next question, you will be creating a visualization to understand the relationship between birth and death rates. The annual death rate for a year-long period is the total number of deaths in that period as a proportion of the population size at the start of the time period.\n",
    "\n",
    "What visualization is most appropriate to see if there is an association between annual birth and death rates across multiple states in the United States?\n",
    "\n",
    "1. Line Graph\n",
    "2. Bar Chart\n",
    "3. Scatter Plot\n",
    "\n",
    "Assign `visualization` below to the number corresponding to the correct visualization.\n"
   ]
  },
  {
   "cell_type": "code",
   "execution_count": null,
   "metadata": {
    "tags": []
   },
   "outputs": [],
   "source": [
    "visualization = ..."
   ]
  },
  {
   "cell_type": "code",
   "execution_count": null,
   "metadata": {
    "deletable": false,
    "editable": false
   },
   "outputs": [],
   "source": [
    "grader.check(\"q2_4\")"
   ]
  },
  {
   "cell_type": "markdown",
   "metadata": {},
   "source": [
    "<!-- BEGIN QUESTION -->\n",
    "\n",
    "**Question 5.** In the code cell below, create a visualization that will help us determine if there is an association between birth rate and death rate during this time interval. It may be helpful to create an intermediate table containing the birth and death rates for each state.\n",
    "\n",
    "Things to consider:\n",
    "\n",
    "- What type of chart will help us illustrate an association between 2 variables?\n",
    "- How can you manipulate a certain table to help generate your chart?\n",
    "- Check out the [Recommended Reading](https://inferentialthinking.com/chapters/07/Visualization.html) for this homework!\n"
   ]
  },
  {
   "cell_type": "code",
   "execution_count": null,
   "metadata": {
    "deletable": false,
    "manual_problem_id": "birth_death_rates_graph",
    "tags": []
   },
   "outputs": [],
   "source": [
    "# In this cell, use birth_rates and death_rates to generate your visualization\n",
    "birth_rates_2015 = pop.column('BIRTHS') / pop.column('2015')\n",
    "death_rates_2015 = pop.column('DEATHS') / pop.column('2015')\n",
    "..."
   ]
  },
  {
   "cell_type": "markdown",
   "metadata": {},
   "source": [
    "<!-- END QUESTION -->\n",
    "\n",
    "**Question 6.** True or False: There is an association between birth rate and death rate during this time interval. \n",
    "\n",
    "Assign `assoc` to `True` or `False` in the cell below.\n"
   ]
  },
  {
   "cell_type": "code",
   "execution_count": null,
   "metadata": {
    "tags": []
   },
   "outputs": [],
   "source": [
    "assoc = ..."
   ]
  },
  {
   "cell_type": "code",
   "execution_count": null,
   "metadata": {
    "deletable": false,
    "editable": false
   },
   "outputs": [],
   "source": [
    "grader.check(\"q2_6\")"
   ]
  },
  {
   "cell_type": "markdown",
   "metadata": {},
   "source": [
    "## 3. Uber"
   ]
  },
  {
   "cell_type": "markdown",
   "metadata": {},
   "source": [
    "**Note:** We recommend reading [Chapter 7.2](https://inferentialthinking.com/chapters/07/2/Visualizing_Numerical_Distributions.html) of the textbook before starting on Question 3."
   ]
  },
  {
   "cell_type": "markdown",
   "metadata": {},
   "source": [
    "Below we load tables containing 200,000 weekday Uber rides in the Manila, Philippines, and Boston, Massachusetts metropolitan areas from the [Uber Movement](https://www.uber.com/newsroom/introducing-uber-movement-2/) project. The `sourceid` and `dstid` columns contain codes corresponding to start and end locations of each ride. The `hod` column contains codes corresponding to the hour of the day the ride took place. The `ride time` column contains the length of the ride in minutes."
   ]
  },
  {
   "cell_type": "code",
   "execution_count": null,
   "metadata": {
    "for_question_type": "solution",
    "scrolled": true
   },
   "outputs": [],
   "source": [
    "boston = Table.read_table(\"boston.csv\")\n",
    "manila = Table.read_table(\"manila.csv\")\n",
    "print(\"Boston Table\")\n",
    "boston.show(4)\n",
    "print(\"Manila Table\")\n",
    "manila.show(4)"
   ]
  },
  {
   "cell_type": "markdown",
   "metadata": {},
   "source": [
    "<!-- BEGIN QUESTION -->\n",
    "\n",
    "**Question 1.** Produce a histogram that visualizes the distributions of all ride times in Boston using the given bins in `equal_bins`.\n",
    "\n",
    "*Hint:* See [Chapter 7.2](https://inferentialthinking.com/chapters/07/2/Visualizing_Numerical_Distributions.html) if you're stuck on how to specify bins."
   ]
  },
  {
   "cell_type": "code",
   "execution_count": null,
   "metadata": {
    "deletable": false,
    "manual_problem_id": "uber_1",
    "scrolled": true,
    "tags": []
   },
   "outputs": [],
   "source": [
    "equal_bins = np.arange(0, 120, 5)\n",
    "..."
   ]
  },
  {
   "cell_type": "markdown",
   "metadata": {},
   "source": [
    "<!-- END QUESTION -->\n",
    "\n",
    "<!-- BEGIN QUESTION -->\n",
    "\n",
    "**Question 2.** Now, produce a histogram that visualizes the distribution of all ride times in Manila using the given bins.\n"
   ]
  },
  {
   "cell_type": "code",
   "execution_count": null,
   "metadata": {
    "scrolled": true,
    "tags": []
   },
   "outputs": [],
   "source": [
    "equal_bins = np.arange(0, 120, 5)\n",
    "...\n",
    "\n",
    "# Don't delete the following line!\n",
    "plt.ylim(0, 0.05);"
   ]
  },
  {
   "cell_type": "markdown",
   "metadata": {},
   "source": [
    "<!-- END QUESTION -->\n",
    "\n",
    "**Question 3.** Let's take a closer look at the y-axis label. Assign `unit_meaning` to an integer (1, 2, 3) that corresponds to the \"unit\" in \"Percent per unit\".\n",
    "\n",
    "1. minute  \n",
    "2. ride time  \n",
    "3. second\n"
   ]
  },
  {
   "cell_type": "code",
   "execution_count": null,
   "metadata": {
    "tags": []
   },
   "outputs": [],
   "source": [
    "unit_meaning = ...\n",
    "unit_meaning"
   ]
  },
  {
   "cell_type": "code",
   "execution_count": null,
   "metadata": {
    "deletable": false,
    "editable": false
   },
   "outputs": [],
   "source": [
    "grader.check(\"q3_3\")"
   ]
  },
  {
   "cell_type": "markdown",
   "metadata": {},
   "source": [
    "**Question 4.** Assign `boston_under_15` and `manila_under_15` to the percentage of rides that are less than 15 minutes in their respective metropolitan areas. Use the height variables provided below in order to compute the percentages. Your solution should only use height variables, numbers, and mathematical operations. You should **not** access the tables `boston` and `manila` in any way.\n",
    "\n",
    "> ***Note:*** that the height variables (i.e. `boston_under_5`) represent the height of the bin it describes.\n"
   ]
  },
  {
   "cell_type": "code",
   "execution_count": null,
   "metadata": {
    "deletable": false,
    "manual_problem_id": "uber_2",
    "tags": []
   },
   "outputs": [],
   "source": [
    "boston_under_5_bin_height = 1.2\n",
    "manila_under_5_bin_height = 0.6\n",
    "boston_5_to_under_10_bin_height = 3.2\n",
    "manila_5_to_under_10_bin_height = 1.4\n",
    "boston_10_to_under_15_bin_height = 4.9\n",
    "manila_10_to_under_15_bin_height = 2.2\n",
    "\n",
    "boston_under_15 = ...\n",
    "manila_under_15 = ...\n",
    "\n",
    "boston_under_15, manila_under_15"
   ]
  },
  {
   "cell_type": "code",
   "execution_count": null,
   "metadata": {
    "deletable": false,
    "editable": false
   },
   "outputs": [],
   "source": [
    "grader.check(\"q3_4\")"
   ]
  },
  {
   "cell_type": "markdown",
   "metadata": {},
   "source": [
    "**Question 5.** Let's take a closer look at the distribution of ride times in Boston. Assign `boston_median_bin` to an integer (1, 2, 3, or 4) that corresponds to the bin that contains the median time.\n",
    "\n",
    "1. 0-8 minutes  \n",
    "2. 8-14 minutes  \n",
    "3. 14-20 minutes  \n",
    "4. 20-40 minutes  \n",
    "\n",
    "*Hint:* The median of a sorted list has half of the list elements to its left, and half to its right.\n"
   ]
  },
  {
   "cell_type": "code",
   "execution_count": null,
   "metadata": {
    "tags": []
   },
   "outputs": [],
   "source": [
    "boston_median_bin = ...\n",
    "boston_median_bin"
   ]
  },
  {
   "cell_type": "code",
   "execution_count": null,
   "metadata": {
    "deletable": false,
    "editable": false
   },
   "outputs": [],
   "source": [
    "grader.check(\"q3_5\")"
   ]
  },
  {
   "cell_type": "markdown",
   "metadata": {},
   "source": [
    "<!-- BEGIN QUESTION -->\n",
    "\n",
    "**Question 6.** Identify one difference between the histograms, in terms of the statistical properties. \n",
    "> *Hint*: Without performing any calculations, can you comment on the average or skew of each histogram?\n"
   ]
  },
  {
   "cell_type": "markdown",
   "metadata": {},
   "source": [
    "_Type your answer here, replacing this text._"
   ]
  },
  {
   "cell_type": "markdown",
   "metadata": {},
   "source": [
    "<!-- END QUESTION -->\n",
    "\n",
    "<!-- BEGIN QUESTION -->\n",
    "\n",
    "**Question 7.** Why is your solution in Question 6 the case? Based on one of the following two readings, why are the distributions for Boston and Manila different?\n",
    "\n",
    "- [Boston reading](https://www.climatestotravel.com/climate/united-states/boston)\n",
    "- [Manila reading](https://manilafyi.com/why-is-manila-traffic-so-bad/)\n",
    "\n",
    "*Hint:* Try thinking about external factors of the two cities that may be causing the difference! The readings provide some potential factors -- try to connect them to the ride time data.\n"
   ]
  },
  {
   "cell_type": "markdown",
   "metadata": {},
   "source": [
    "_Type your answer here, replacing this text._"
   ]
  },
  {
   "cell_type": "markdown",
   "metadata": {
    "tags": []
   },
   "source": [
    "<!-- END QUESTION -->\n",
    "\n",
    "## 4. Histograms"
   ]
  },
  {
   "cell_type": "markdown",
   "metadata": {},
   "source": [
    "Consider the following scatter plot: \n",
    "\n",
    "![Alt text](scatter.png \"Scatter plot showing data points for the variables 'x' and 'y'. The data are symmetric about the x-axis centered at 0 and symmetric about the y-axis centered at 0, but with no data in the [-0.5, 0.5] range on the y-axis.\")\n",
    "\n",
    "The axes of the plot represent values of two variables: $x$ and $y$. "
   ]
  },
  {
   "cell_type": "markdown",
   "metadata": {},
   "source": [
    "Suppose we have a table called `t` that has two columns in it:\n",
    "\n",
    "- `x`: a column containing the x-values of the points in the scatter plot\n",
    "- `y`: a column containing the y-values of the points in the scatter plot"
   ]
  },
  {
   "cell_type": "markdown",
   "metadata": {},
   "source": [
    "Below, you are given three histograms—one corresponds to column `x`, one corresponds to column `y`, and one does not correspond to either column. "
   ]
  },
  {
   "cell_type": "markdown",
   "metadata": {},
   "source": [
    "**Histogram A:**\n",
    " \n",
    "![Alt text](var3.png \"Symmetrical, bell-shaped histogram centered around 0\")\n",
    "\n",
    "**Histogram B:**\n",
    "\n",
    "![Alt text](var1.png \"Symmetrical histogram with two peaks at -1 and 1 but no data around 0\")\n",
    "\n",
    "**Histogram C:**\n",
    "\n",
    "![Alt text](var2.png \"Asymmetrical histogram with a peak around -0.5 and a right skew\")"
   ]
  },
  {
   "cell_type": "markdown",
   "metadata": {},
   "source": [
    "**Question 1.** Suppose we run `t.hist('x')`. Which histogram does this code produce? Assign `histogram_column_x` to either 1, 2, or 3.\n",
    "\n",
    "1. Histogram A\n",
    "2. Histogram B\n",
    "3. Histogram C\n"
   ]
  },
  {
   "cell_type": "code",
   "execution_count": null,
   "metadata": {
    "tags": []
   },
   "outputs": [],
   "source": [
    "histogram_column_x = ..."
   ]
  },
  {
   "cell_type": "code",
   "execution_count": null,
   "metadata": {
    "deletable": false,
    "editable": false
   },
   "outputs": [],
   "source": [
    "grader.check(\"q4_1\")"
   ]
  },
  {
   "cell_type": "markdown",
   "metadata": {},
   "source": [
    "<!-- BEGIN QUESTION -->\n",
    "\n",
    "**Question 2.** State at least one reason why you chose the histogram from Question 1. **Make sure to clearly indicate which histogram you selected** (ex: \"I chose histogram A because ...\").\n"
   ]
  },
  {
   "cell_type": "markdown",
   "metadata": {},
   "source": [
    "_Type your answer here, replacing this text._"
   ]
  },
  {
   "cell_type": "markdown",
   "metadata": {},
   "source": [
    "<!-- END QUESTION -->\n",
    "\n",
    "**Question 3.** Suppose we run `t.hist('y')`. Which histogram does this code produce? Assign `histogram_column_y` to either 1, 2, or 3.\n",
    "\n",
    "1. Histogram A\n",
    "2. Histogram B\n",
    "3. Histogram C\n"
   ]
  },
  {
   "cell_type": "code",
   "execution_count": null,
   "metadata": {
    "tags": []
   },
   "outputs": [],
   "source": [
    "histogram_column_y = ..."
   ]
  },
  {
   "cell_type": "code",
   "execution_count": null,
   "metadata": {
    "deletable": false,
    "editable": false
   },
   "outputs": [],
   "source": [
    "grader.check(\"q4_3\")"
   ]
  },
  {
   "cell_type": "markdown",
   "metadata": {},
   "source": [
    "<!-- BEGIN QUESTION -->\n",
    "\n",
    "**Question 4.** State at least one reason why you chose the histogram from Question 3.  **Make sure to clearly indicate which histogram you selected** (ex: \"I chose histogram A because ...\").\n"
   ]
  },
  {
   "cell_type": "markdown",
   "metadata": {},
   "source": [
    "_Type your answer here, replacing this text._"
   ]
  },
  {
   "cell_type": "markdown",
   "id": "c2056ffa",
   "metadata": {},
   "source": [
    "## Submission\n",
    "\n",
    "Make sure you have run all cells in your notebook in order, so that all images/graphs appear in the output. Use the Github \"Export\" option to generate an HTML file for this notebook and upload it to Canvas. (If the export gives an error, try first running \"pip install nbconvert\" in the terminal.)"
   ]
  },
  {
   "cell_type": "markdown",
   "id": "75018481",
   "metadata": {},
   "source": []
  }
 ],
 "metadata": {
  "kernelspec": {
   "display_name": "Python 3",
   "language": "python",
   "name": "python3"
  },
  "language_info": {
   "codemirror_mode": {
    "name": "ipython",
    "version": 3
   },
   "file_extension": ".py",
   "mimetype": "text/x-python",
   "name": "python",
   "nbconvert_exporter": "python",
   "pygments_lexer": "ipython3",
   "version": "3.12.1"
  },
  "otter": {
   "OK_FORMAT": true,
   "tests": {
    "q1_1": {
     "name": "q1_1",
     "points": [
      4
     ],
     "suites": [
      {
       "cases": [
        {
         "code": ">>> unemployment.select('Date', 'NEI', 'NEI-PTER').take(0)\nDate       | NEI     | NEI-PTER\n1994-01-01 | 10.0974 | 11.172",
         "hidden": false,
         "locked": false
        }
       ],
       "scored": true,
       "setup": "",
       "teardown": "",
       "type": "doctest"
      }
     ]
    },
    "q1_2": {
     "name": "q1_2",
     "points": [
      2,
      2
     ],
     "suites": [
      {
       "cases": [
        {
         "code": ">>> by_nei.take(0)\nDate       | NEI     | NEI-PTER\n2009-10-01 | 10.9698 | 12.8557",
         "hidden": false,
         "locked": false
        },
        {
         "code": ">>> by_nei_pter.take(0)\nDate       | NEI     | NEI-PTER\n2009-10-01 | 10.9698 | 12.8557",
         "hidden": false,
         "locked": false
        }
       ],
       "scored": true,
       "setup": "",
       "teardown": "",
       "type": "doctest"
      }
     ]
    },
    "q1_3": {
     "name": "q1_3",
     "points": [
      2
     ],
     "suites": [
      {
       "cases": [
        {
         "code": ">>> greatest_nei.take(0)\nDate       | NEI     | NEI-PTER\n2009-10-01 | 10.9698 | 12.8557",
         "hidden": false,
         "locked": false
        }
       ],
       "scored": true,
       "setup": "",
       "teardown": "",
       "type": "doctest"
      }
     ]
    },
    "q1_4": {
     "name": "q1_4",
     "points": [
      1,
      3
     ],
     "suites": [
      {
       "cases": [
        {
         "code": ">>> # It looks like you subtracted in the wrong order.\n>>> round(pter.item(6), 4) != -1.1282\nTrue",
         "hidden": false,
         "locked": false
        },
        {
         "code": ">>> round(pter.item(6), 4)\n1.1282",
         "hidden": false,
         "locked": false
        }
       ],
       "scored": true,
       "setup": "",
       "teardown": "",
       "type": "doctest"
      }
     ]
    },
    "q1_5": {
     "name": "q1_5",
     "points": [
      4
     ],
     "suites": [
      {
       "cases": [
        {
         "code": ">>> by_pter.take(0)\nDate       | NEI     | NEI-PTER | PTER\n2009-07-01 | 10.8089 | 12.7404  | 1.9315",
         "hidden": false,
         "locked": false
        }
       ],
       "scored": true,
       "setup": "",
       "teardown": "",
       "type": "doctest"
      }
     ]
    },
    "q1_6": {
     "name": "q1_6",
     "points": [
      0
     ],
     "suites": [
      {
       "cases": [
        {
         "code": ">>> pter_over_time.take(0)\nDate       | NEI     | NEI-PTER | Year | PTER\n1994-01-01 | 10.0974 | 11.172   | 1994 | 1.0746",
         "hidden": false,
         "locked": false
        }
       ],
       "scored": true,
       "setup": "",
       "teardown": "",
       "type": "doctest"
      }
     ]
    },
    "q1_7": {
     "name": "q1_7",
     "points": [
      0
     ],
     "suites": [
      {
       "cases": [
        {
         "code": ">>> highPTER == True or highPTER == False\nTrue",
         "hidden": false,
         "locked": false
        }
       ],
       "scored": true,
       "setup": "",
       "teardown": "",
       "type": "doctest"
      }
     ]
    },
    "q2_1": {
     "name": "q2_1",
     "points": [
      0
     ],
     "suites": [
      {
       "cases": [
        {
         "code": ">>> 0 < us_birth_rate < 1\nTrue",
         "hidden": false,
         "locked": false
        }
       ],
       "scored": true,
       "setup": "",
       "teardown": "",
       "type": "doctest"
      }
     ]
    },
    "q2_2": {
     "name": "q2_2",
     "points": [
      0
     ],
     "suites": [
      {
       "cases": [
        {
         "code": ">>> 0 < movers <= 52\nTrue",
         "hidden": false,
         "locked": false
        }
       ],
       "scored": true,
       "setup": "",
       "teardown": "",
       "type": "doctest"
      }
     ]
    },
    "q2_3": {
     "name": "q2_3",
     "points": [
      0
     ],
     "suites": [
      {
       "cases": [
        {
         "code": ">>> 5e5 < west_births < 1e6\nTrue",
         "hidden": false,
         "locked": false
        }
       ],
       "scored": true,
       "setup": "",
       "teardown": "",
       "type": "doctest"
      }
     ]
    },
    "q2_4": {
     "name": "q2_4",
     "points": [
      0,
      0
     ],
     "suites": [
      {
       "cases": [
        {
         "code": ">>> # visualization should be assigned to an integer.\n>>> type(visualization) == int\nTrue",
         "hidden": false,
         "locked": false
        },
        {
         "code": ">>> # Make sure visualization is assigned to 1, 2 or 3.\n>>> 1 <= visualization <= 3\nTrue",
         "hidden": false,
         "locked": false
        }
       ],
       "scored": true,
       "setup": "",
       "teardown": "",
       "type": "doctest"
      }
     ]
    },
    "q2_6": {
     "name": "q2_6",
     "points": [
      0
     ],
     "suites": [
      {
       "cases": [
        {
         "code": ">>> type(assoc) is bool\nTrue",
         "hidden": false,
         "locked": false
        }
       ],
       "scored": true,
       "setup": "",
       "teardown": "",
       "type": "doctest"
      }
     ]
    },
    "q3_3": {
     "name": "q3_3",
     "points": [
      0
     ],
     "suites": [
      {
       "cases": [
        {
         "code": ">>> 1 <= unit_meaning <= 3\nTrue",
         "hidden": false,
         "locked": false
        }
       ],
       "scored": true,
       "setup": "",
       "teardown": "",
       "type": "doctest"
      }
     ]
    },
    "q3_4": {
     "name": "q3_4",
     "points": [
      0,
      0
     ],
     "suites": [
      {
       "cases": [
        {
         "code": ">>> boston_under_15 >= 0 and boston_under_15 <= 100\nTrue",
         "hidden": false,
         "locked": false
        },
        {
         "code": ">>> manila_under_15 >= 0 and manila_under_15 <= 100\nTrue",
         "hidden": false,
         "locked": false
        }
       ],
       "scored": true,
       "setup": "",
       "teardown": "",
       "type": "doctest"
      }
     ]
    },
    "q3_5": {
     "name": "q3_5",
     "points": [
      0
     ],
     "suites": [
      {
       "cases": [
        {
         "code": ">>> # Make sure boston_median_bin is assigned to 1, 2, 3, or 4.\n>>> 1 <= boston_median_bin <= 4\nTrue",
         "hidden": false,
         "locked": false
        }
       ],
       "scored": true,
       "setup": "",
       "teardown": "",
       "type": "doctest"
      }
     ]
    },
    "q4_1": {
     "name": "q4_1",
     "points": [
      0,
      1
     ],
     "suites": [
      {
       "cases": [
        {
         "code": ">>> # Make sure you assign histogram_column_x to either 1 or 2!\n>>> type(histogram_column_x) == int\nTrue",
         "hidden": false,
         "locked": false
        },
        {
         "code": ">>> histogram_column_x == 1 or histogram_column_x == 2 or histogram_column_x == 3\nTrue",
         "hidden": false,
         "locked": false
        }
       ],
       "scored": true,
       "setup": "",
       "teardown": "",
       "type": "doctest"
      }
     ]
    },
    "q4_3": {
     "name": "q4_3",
     "points": [
      0,
      1
     ],
     "suites": [
      {
       "cases": [
        {
         "code": ">>> # Make sure you assign histogram_column_y to either 1 or 2!\n>>> type(histogram_column_y) == int\nTrue",
         "hidden": false,
         "locked": false
        },
        {
         "code": ">>> # Make sure histogram_column_y is assigned to 1, 2 or 3.\n>>> histogram_column_y == 1 or histogram_column_y == 2 or histogram_column_y == 3\nTrue",
         "hidden": false,
         "locked": false
        }
       ],
       "scored": true,
       "setup": "",
       "teardown": "",
       "type": "doctest"
      }
     ]
    }
   }
  }
 },
 "nbformat": 4,
 "nbformat_minor": 5
}
